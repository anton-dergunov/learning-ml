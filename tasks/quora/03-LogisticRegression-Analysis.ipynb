{
 "cells": [
  {
   "cell_type": "code",
   "execution_count": 57,
   "metadata": {
    "collapsed": true
   },
   "outputs": [],
   "source": [
    "import numpy as np\n",
    "import pandas as pd\n",
    "import os\n",
    "import re\n",
    "\n",
    "from sklearn.model_selection import StratifiedShuffleSplit\n",
    "from sklearn.feature_extraction.text import HashingVectorizer\n",
    "from sklearn.linear_model import LogisticRegression\n",
    "from sklearn.model_selection import train_test_split\n",
    "from sklearn.metrics import precision_recall_fscore_support"
   ]
  },
  {
   "cell_type": "code",
   "execution_count": 3,
   "metadata": {
    "collapsed": true
   },
   "outputs": [],
   "source": [
    "df = pd.read_csv('/Users/anton/mywork/Datasets/Quora/train.csv')"
   ]
  },
  {
   "cell_type": "code",
   "execution_count": 4,
   "metadata": {},
   "outputs": [
    {
     "data": {
      "text/html": [
       "<div>\n",
       "<style scoped>\n",
       "    .dataframe tbody tr th:only-of-type {\n",
       "        vertical-align: middle;\n",
       "    }\n",
       "\n",
       "    .dataframe tbody tr th {\n",
       "        vertical-align: top;\n",
       "    }\n",
       "\n",
       "    .dataframe thead th {\n",
       "        text-align: right;\n",
       "    }\n",
       "</style>\n",
       "<table border=\"1\" class=\"dataframe\">\n",
       "  <thead>\n",
       "    <tr style=\"text-align: right;\">\n",
       "      <th></th>\n",
       "      <th>qid</th>\n",
       "      <th>question_text</th>\n",
       "      <th>target</th>\n",
       "    </tr>\n",
       "  </thead>\n",
       "  <tbody>\n",
       "    <tr>\n",
       "      <th>0</th>\n",
       "      <td>00002165364db923c7e6</td>\n",
       "      <td>How did Quebec nationalists see their province...</td>\n",
       "      <td>0</td>\n",
       "    </tr>\n",
       "    <tr>\n",
       "      <th>1</th>\n",
       "      <td>000032939017120e6e44</td>\n",
       "      <td>Do you have an adopted dog, how would you enco...</td>\n",
       "      <td>0</td>\n",
       "    </tr>\n",
       "    <tr>\n",
       "      <th>2</th>\n",
       "      <td>0000412ca6e4628ce2cf</td>\n",
       "      <td>Why does velocity affect time? Does velocity a...</td>\n",
       "      <td>0</td>\n",
       "    </tr>\n",
       "    <tr>\n",
       "      <th>3</th>\n",
       "      <td>000042bf85aa498cd78e</td>\n",
       "      <td>How did Otto von Guericke used the Magdeburg h...</td>\n",
       "      <td>0</td>\n",
       "    </tr>\n",
       "    <tr>\n",
       "      <th>4</th>\n",
       "      <td>0000455dfa3e01eae3af</td>\n",
       "      <td>Can I convert montra helicon D to a mountain b...</td>\n",
       "      <td>0</td>\n",
       "    </tr>\n",
       "  </tbody>\n",
       "</table>\n",
       "</div>"
      ],
      "text/plain": [
       "                    qid                                      question_text  \\\n",
       "0  00002165364db923c7e6  How did Quebec nationalists see their province...   \n",
       "1  000032939017120e6e44  Do you have an adopted dog, how would you enco...   \n",
       "2  0000412ca6e4628ce2cf  Why does velocity affect time? Does velocity a...   \n",
       "3  000042bf85aa498cd78e  How did Otto von Guericke used the Magdeburg h...   \n",
       "4  0000455dfa3e01eae3af  Can I convert montra helicon D to a mountain b...   \n",
       "\n",
       "   target  \n",
       "0       0  \n",
       "1       0  \n",
       "2       0  \n",
       "3       0  \n",
       "4       0  "
      ]
     },
     "execution_count": 4,
     "metadata": {},
     "output_type": "execute_result"
    }
   ],
   "source": [
    "df.head()"
   ]
  },
  {
   "cell_type": "code",
   "execution_count": 5,
   "metadata": {
    "collapsed": true
   },
   "outputs": [],
   "source": [
    "split = StratifiedShuffleSplit(n_splits=1, test_size=0.2, random_state=42)\n",
    "for train_index, test_valid_index in split.split(df, df.target):\n",
    "    train_set = df.iloc[train_index]\n",
    "    test_valid_set = df.iloc[test_valid_index]\n",
    "\n",
    "split2 = StratifiedShuffleSplit(n_splits=1, test_size=0.5, random_state=42)\n",
    "for test_index, valid_index in split2.split(test_valid_set, test_valid_set.target):\n",
    "    test_set = test_valid_set.iloc[test_index]\n",
    "    valid_set = test_valid_set.iloc[valid_index]"
   ]
  },
  {
   "cell_type": "code",
   "execution_count": 6,
   "metadata": {},
   "outputs": [
    {
     "name": "stdout",
     "output_type": "stream",
     "text": [
      "Train set 1044897 0.06187021304492213\n",
      "Valid set 130613 0.06186979856522704\n",
      "Test set 130612 0.061870272256760485\n"
     ]
    }
   ],
   "source": [
    "print(\"Train set\", train_set.shape[0], sum(train_set.target) / train_set.shape[0])\n",
    "print(\"Valid set\", valid_set.shape[0], sum(valid_set.target) / valid_set.shape[0])\n",
    "print(\"Test set\", test_set.shape[0], sum(test_set.target) / test_set.shape[0])"
   ]
  },
  {
   "cell_type": "code",
   "execution_count": 7,
   "metadata": {},
   "outputs": [],
   "source": [
    "vectorizer = HashingVectorizer(n_features=2**15, norm=None, alternate_sign=False)\n",
    "X_train_transformed = vectorizer.fit_transform(train_set.question_text)\n",
    "y_train = train_set.target"
   ]
  },
  {
   "cell_type": "code",
   "execution_count": 8,
   "metadata": {
    "collapsed": true
   },
   "outputs": [],
   "source": [
    "X_valid_transformed = vectorizer.transform(valid_set.question_text)\n",
    "y_valid = valid_set.target"
   ]
  },
  {
   "cell_type": "code",
   "execution_count": 9,
   "metadata": {
    "collapsed": true
   },
   "outputs": [],
   "source": [
    "log_clf = LogisticRegression(random_state=42)\n",
    "log_clf.fit(X_train_transformed, y_train)\n",
    "\n",
    "y_pred = log_clf.predict(X_valid_transformed)"
   ]
  },
  {
   "cell_type": "code",
   "execution_count": 10,
   "metadata": {},
   "outputs": [
    {
     "data": {
      "text/plain": [
       "(array([0.96363202, 0.69425242]),\n",
       " array([0.98736657, 0.43497092]),\n",
       " array([0.97535492, 0.5348448 ]),\n",
       " array([122532,   8081]))"
      ]
     },
     "execution_count": 10,
     "metadata": {},
     "output_type": "execute_result"
    }
   ],
   "source": [
    "precision_recall_fscore_support(y_valid, y_pred)"
   ]
  },
  {
   "cell_type": "code",
   "execution_count": 91,
   "metadata": {},
   "outputs": [
    {
     "data": {
      "text/plain": [
       "(array([0.96629617, 0.74322565]),\n",
       " array([0.98913439, 0.47687477]),\n",
       " array([0.97758191, 0.58097769]),\n",
       " array([980249,  64648]))"
      ]
     },
     "execution_count": 91,
     "metadata": {},
     "output_type": "execute_result"
    }
   ],
   "source": [
    "y_train_pred = log_clf.predict(X_train_transformed)\n",
    "precision_recall_fscore_support(y_train, y_train_pred)"
   ]
  },
  {
   "cell_type": "code",
   "execution_count": 29,
   "metadata": {},
   "outputs": [
    {
     "data": {
      "text/plain": [
       "'Which is the best career after 12th?'"
      ]
     },
     "execution_count": 29,
     "metadata": {},
     "output_type": "execute_result"
    }
   ],
   "source": [
    "train_set.question_text.iloc[0]"
   ]
  },
  {
   "cell_type": "code",
   "execution_count": 30,
   "metadata": {},
   "outputs": [
    {
     "name": "stdout",
     "output_type": "stream",
     "text": [
      "  (0, 12071)\t1.0\n",
      "  (0, 12119)\t1.0\n",
      "  (0, 13677)\t1.0\n",
      "  (0, 16393)\t1.0\n",
      "  (0, 19280)\t1.0\n",
      "  (0, 24734)\t1.0\n",
      "  (0, 29201)\t1.0\n"
     ]
    }
   ],
   "source": [
    "print(X_train_transformed[0])"
   ]
  },
  {
   "cell_type": "code",
   "execution_count": 31,
   "metadata": {},
   "outputs": [
    {
     "name": "stdout",
     "output_type": "stream",
     "text": [
      "  (0, 12071)\t1.0\n",
      "  (0, 12119)\t1.0\n",
      "  (0, 13677)\t1.0\n",
      "  (0, 16393)\t1.0\n",
      "  (0, 19280)\t1.0\n",
      "  (0, 24734)\t1.0\n",
      "  (0, 29201)\t1.0\n"
     ]
    }
   ],
   "source": [
    "test_text = 'Which is the best career after 12th?'\n",
    "print(vectorizer.transform([test_text]))"
   ]
  },
  {
   "cell_type": "code",
   "execution_count": 70,
   "metadata": {},
   "outputs": [
    {
     "data": {
      "text/plain": [
       "19280"
      ]
     },
     "execution_count": 70,
     "metadata": {},
     "output_type": "execute_result"
    }
   ],
   "source": [
    "test_text = 'career'\n",
    "t = vectorizer.transform([test_text])\n",
    "t.indices[0]"
   ]
  },
  {
   "cell_type": "code",
   "execution_count": 44,
   "metadata": {},
   "outputs": [
    {
     "data": {
      "text/plain": [
       "(32768,)"
      ]
     },
     "execution_count": 44,
     "metadata": {},
     "output_type": "execute_result"
    }
   ],
   "source": [
    "log_clf.coef_[0].shape"
   ]
  },
  {
   "cell_type": "code",
   "execution_count": 62,
   "metadata": {},
   "outputs": [
    {
     "data": {
      "text/plain": [
       "['Which', 'is', 'the', 'best', 'career', 'after', '12th']"
      ]
     },
     "execution_count": 62,
     "metadata": {},
     "output_type": "execute_result"
    }
   ],
   "source": [
    "test_text = 'Which is the best career after 12th?'\n",
    "re.findall(r'\\b\\w\\w+\\b', test_text)"
   ]
  },
  {
   "cell_type": "code",
   "execution_count": 75,
   "metadata": {
    "collapsed": true
   },
   "outputs": [],
   "source": [
    "words = set([word.lower() for question in train_set.question_text for word in re.findall(r'\\b\\w\\w+\\b', question)])"
   ]
  },
  {
   "cell_type": "code",
   "execution_count": 76,
   "metadata": {},
   "outputs": [
    {
     "data": {
      "text/plain": [
       "173236"
      ]
     },
     "execution_count": 76,
     "metadata": {},
     "output_type": "execute_result"
    }
   ],
   "source": [
    "len(words)"
   ]
  },
  {
   "cell_type": "code",
   "execution_count": 77,
   "metadata": {},
   "outputs": [],
   "source": [
    "m = {}\n",
    "for word in words:\n",
    "    transformed = vectorizer.transform([word])\n",
    "    if transformed.nnz == 1:\n",
    "        code = transformed.indices[0]\n",
    "        if code in m:\n",
    "            m[code] += ',' + word\n",
    "        else:\n",
    "            m[code] = word\n"
   ]
  },
  {
   "cell_type": "code",
   "execution_count": 89,
   "metadata": {},
   "outputs": [
    {
     "name": "stdout",
     "output_type": "stream",
     "text": [
      "5.117441879213295 hade,castrate,withopen,manolas,phoney,carradine,guesser\n",
      "4.694228376341662 swarup,castrated,pastes,vellore,aranmula\n",
      "4.503698248897159 cuz,aneurysim,castration\n",
      "3.8407321608565717 alexandrino,alabamians,aball\n",
      "3.4272882367062403 incest\n",
      "3.3244785779910124 fuck,000usd,kolawa,giblatar,pgdbp,ch3ch2chclcooh,systemizer,whivh,yeshua,trumo,mingshan,sjit\n",
      "3.3237673731705164 moron,webdevlopment,gepi,mobirise,hie,peaple,hornell\n",
      "3.1490989959571882 quicksgear,dugish,farragut,manslamming,idiots\n",
      "3.1218573181241736 multifamily,nwea,abramoviches,asshole,bildt,hunduran,98y,tiphares\n",
      "3.0963842792007257 drmkpro64,cunt,makemake\n",
      "2.915995283958546 glancation,rejuvalex,helter,potencial,givingi,tsukuba,smirking\n",
      "2.8498924275472715 butyne,neovascularization,accupuncture,kothaguda,assholes,bengald\n",
      "2.7952521318883967 drumpf,enchilada,arras\n",
      "2.7385796130849775 leucoderma,chaturthi,bullshit,softwaretraining,filth,joads\n",
      "2.725068195953779 phoshoglycerids,ucsi,399,3164,leno,zing,fucking,crimimal\n",
      "2.7057595361513855 tan46,abbassids,cs109b,biosensor,nibiru,fluffy\n",
      "2.701902409988425 crypyocurrency,jiofi4,scienctific,gobardhan,fucked,matlin\n",
      "2.6861183104343653 sluts,malaysis\n",
      "2.677636680217528 raping,howcatchem,redate\n",
      "2.674434220571425 idiotism,feminists,resample,santoshpandey,haro,scilly,syntopically\n",
      "2.6581456174384 takizawa,ecryption,太阳,auvela\n",
      "2.6488645359938134 kannadigas\n",
      "2.637471569518286 zbook,chengde,holberton,homosexuality,lenski,jarvik,teodoro,marshawn,suckle,bytotal\n",
      "2.5943952279814253 seduce,universtities,lamisil,untrendy,nrf24l01\n",
      "2.559378963365553 unfollowed,liberals,4004,3050\n",
      "2.5236360745768978 neggative,petticoats,stormer,279,pch,shit,lokuva\n",
      "2.475041122779849 puebla,aist,avergonzado,edouard,aerial,pussy,oppoints\n",
      "2.472911278923813 brandeis,jambalaya,afterwared,levying,imitating,shikoh\n",
      "2.4483134480214637 taxs,malcom,staffordshire,blacks,hokkien,drivewealth\n",
      "2.4469609452755914 halle,bangaloreans,f6d4230,9081\n"
     ]
    }
   ],
   "source": [
    "for idx in np.flip(np.argsort(log_clf.coef_[0]), axis=0)[:30]:\n",
    "    print(log_clf.coef_[0][idx], m[idx])"
   ]
  },
  {
   "cell_type": "code",
   "execution_count": 90,
   "metadata": {},
   "outputs": [
    {
     "name": "stdout",
     "output_type": "stream",
     "text": [
      "-3.186465706957477 computerize,beechview,illegalised,shilphata,vit\n",
      "-2.4103820103805615 interconnection,combi,ninian,cmc,cerelac,unranked,shilometer,sechin,subconcussive\n",
      "-2.1761040625958286 silkiest,parsifal,yallapana,brahmputra,ssc,sulfur\n",
      "-2.0206153505792503 chall,unforced,thr,marries\n",
      "-2.015232337781107 compuksary,salon,cloudy,1896,keyboarding\n",
      "-1.890202610903577 doofinshmirtz,muskmelon,unitec,goldmans,christmass,armor,salesfourse,socialblade,nucleàr,trix,bluntly,flic\n",
      "-1.8868976675551077 zonnie,fatherland\n",
      "-1.8814598453455995 nayudu,pentel,simen,junction,bery,oxide,munaf,camus,scraping\n",
      "-1.866323980785272 kongregate,ummm,pds,speakeasy,remained,akif,sakte\n",
      "-1.8306883521848019 lpu,hadal,foreskin,counciling,engeniar,candies\n",
      "-1.804112033001717 mcnp,pinewood,kornienko,insteresting,v5,advertising,impotance,duckhead\n",
      "-1.791274573831265 penitents,pcs,torrents,tack,sprinkled,bacteroidetes\n",
      "-1.7814013582124546 scarves,multiplied,bhatnagar,temba,60le650,esop\n",
      "-1.776453480664684 yellowknife,111111,overseeing,drowsy,flutter,domaintools,ola\n",
      "-1.7586184632328836 prism,supradyn,microarray,acheivement,hzt0rrtnewg,monotheistic\n",
      "-1.7431626384368835 inhabit,sharpe,follate,root8,इम,myowntruthsblog\n",
      "-1.7398567838213561 yucatan,poona,gate,piccard,multijet,nzd,pantheist,comunícate\n",
      "-1.7344513736554905 internship,blare,quantums,sneakerlike,mascot\n",
      "-1.7229493352058207 maybach,dst,documentaries,gambino,senpai,siries\n",
      "-1.7057795302098318 jug,isbj,recognized,pantees,hornlike,numbing,watering,roosvelt\n",
      "-1.7010188910792559 royan,hawkins,proverb,pregencey\n",
      "-1.699540796907114 tena,hospitalize,guion,antimigrane,adhaar,bbguns4less,grandiose,spearman,reilley,lisaraye\n",
      "-1.6934809839732277 carne,courses,gladiatorial,hoti,houellebecq,embium\n",
      "-1.6889083859795138 emotive,pedalis,bruges,mipt,vindicative,ramachandra,charitable\n",
      "-1.6635819677364252 jordanian,calming,sif,metaphysical,domhnall,waterdrop\n",
      "-1.6508371514377116 sss,germanotta,sciety,brasilia,analysis\n",
      "-1.6454229812099508 medinipur,gsoc2018,qpsk,wc,peahen,comdogenic,saloons,langauge,prefaced,ralfi,tabula\n",
      "-1.6450969891961855 teas,unhealed,purring,littlefinger,latitude\n",
      "-1.6416065273362228 hyoudou,bf,regius,michie,maximizes\n",
      "-1.6415688535631283 quizizz,kumamoto,beaked,pinterest,renault,养生,dntp,bhuj\n"
     ]
    }
   ],
   "source": [
    "for idx in np.argsort(log_clf.coef_[0])[:30]:\n",
    "    print(log_clf.coef_[0][idx], m[idx])"
   ]
  },
  {
   "cell_type": "code",
   "execution_count": 96,
   "metadata": {},
   "outputs": [
    {
     "data": {
      "text/plain": [
       "<1044897x32768 sparse matrix of type '<class 'numpy.float64'>'\n",
       "\twith 12077247 stored elements in Compressed Sparse Row format>"
      ]
     },
     "execution_count": 96,
     "metadata": {},
     "output_type": "execute_result"
    }
   ],
   "source": [
    "X_train_transformed"
   ]
  },
  {
   "cell_type": "code",
   "execution_count": 94,
   "metadata": {},
   "outputs": [
    {
     "data": {
      "text/plain": [
       "12077247"
      ]
     },
     "execution_count": 94,
     "metadata": {},
     "output_type": "execute_result"
    }
   ],
   "source": [
    "X_train_transformed.nnz"
   ]
  },
  {
   "cell_type": "markdown",
   "metadata": {},
   "source": [
    "Roughly 120MB"
   ]
  },
  {
   "cell_type": "code",
   "execution_count": null,
   "metadata": {
    "collapsed": true
   },
   "outputs": [],
   "source": []
  }
 ],
 "metadata": {
  "kernelspec": {
   "display_name": "Python 3",
   "language": "python",
   "name": "python3"
  },
  "language_info": {
   "codemirror_mode": {
    "name": "ipython",
    "version": 3
   },
   "file_extension": ".py",
   "mimetype": "text/x-python",
   "name": "python",
   "nbconvert_exporter": "python",
   "pygments_lexer": "ipython3",
   "version": "3.6.3"
  }
 },
 "nbformat": 4,
 "nbformat_minor": 2
}

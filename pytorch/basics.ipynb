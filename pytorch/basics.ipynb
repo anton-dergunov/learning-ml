{
 "cells": [
  {
   "cell_type": "code",
   "execution_count": 2,
   "metadata": {
    "collapsed": true
   },
   "outputs": [],
   "source": [
    "import torch\n",
    "import numpy as np"
   ]
  },
  {
   "cell_type": "markdown",
   "metadata": {},
   "source": [
    "### Tensors"
   ]
  },
  {
   "cell_type": "code",
   "execution_count": 23,
   "metadata": {},
   "outputs": [
    {
     "name": "stdout",
     "output_type": "stream",
     "text": [
      "tensor([[ 0.0000e+00, -2.5244e-29,  4.3691e-03],\n",
      "        [ 2.8586e-42,  4.3640e-03,  1.0845e-19]])\n",
      "tensor([0.5783, 0.2644, 0.8099])\n",
      "tensor([-1.0312, -1.0083, -0.0303])\n",
      "tensor([[1., 0., 0.],\n",
      "        [0., 1., 0.],\n",
      "        [0., 0., 1.]])\n",
      "tensor([0, 1, 2])\n",
      "tensor([0.0000, 0.7500, 1.5000, 2.2500, 3.0000])\n",
      "tensor([0, 1, 2, 3, 4])\n",
      "tensor([ 0,  5, 10])\n",
      "tensor([0., 0., 0.])\n",
      "tensor([1., 1., 1.])\n",
      "tensor([0., 0., 0.])\n"
     ]
    }
   ],
   "source": [
    "print(torch.Tensor(2, 3))              # uninitialized\n",
    "print(torch.rand(3))                   # uniform random\n",
    "print(torch.randn(3))                  # normal random\n",
    "print(torch.eye(3))                    # identity matrix NxN\n",
    "print(torch.from_numpy(np.arange(3)))\n",
    "print(torch.linspace(0, 3, 5))         # 5 values from 0 to 5\n",
    "print(torch.arange(5))\n",
    "print(torch.arange(0, 15, 5))          # values from 0 to 15 exclusive, step 5\n",
    "print(torch.zeros(3))\n",
    "print(torch.ones(3))\n",
    "print(torch.zeros_like(torch.ones(3)))"
   ]
  },
  {
   "cell_type": "code",
   "execution_count": 26,
   "metadata": {},
   "outputs": [
    {
     "name": "stdout",
     "output_type": "stream",
     "text": [
      "tensor(5)\n",
      "tensor([1, 2])\n",
      "tensor([[1, 2],\n",
      "        [3, 4]])\n",
      "tensor([0, 0, 0, 0, 0], dtype=torch.int32)\n"
     ]
    }
   ],
   "source": [
    "print(torch.tensor(5))\n",
    "print(torch.tensor([1,2]))\n",
    "print(torch.tensor([[1,2],[3,4]]))\n",
    "print(torch.zeros(5, dtype=torch.int32))"
   ]
  },
  {
   "cell_type": "code",
   "execution_count": 11,
   "metadata": {},
   "outputs": [
    {
     "name": "stdout",
     "output_type": "stream",
     "text": [
      "torch.Size([5, 5])\n",
      "torch.Size([5, 5])\n",
      "25\n",
      "5\n",
      "1\n",
      "1\n"
     ]
    }
   ],
   "source": [
    "print(torch.zeros([5,5]).shape)\n",
    "print(torch.zeros([5,5]).size())\n",
    "print(torch.zeros([5,5]).numel())     # number of elements\n",
    "print(torch.tensor(5).item())         # only 1 element can be converted\n",
    "print(torch.tensor([1]).item())\n",
    "print(torch.tensor([[1]]).item())"
   ]
  },
  {
   "cell_type": "code",
   "execution_count": 59,
   "metadata": {},
   "outputs": [
    {
     "name": "stdout",
     "output_type": "stream",
     "text": [
      "tensor([[1., 1.],\n",
      "        [1., 1.],\n",
      "        [1., 1.]])\n",
      "tensor([[1., 1.],\n",
      "        [1., 1.],\n",
      "        [1., 1.]])\n",
      "tensor([[1., 1.],\n",
      "        [1., 1.],\n",
      "        [1., 1.]])\n",
      "tensor([1., 1., 1., 1., 1., 1.])\n",
      "tensor([1., 1., 1., 1., 1., 1.])\n",
      "tensor([1., 1., 1., 1., 1., 1.])\n",
      "tensor([[[1., 1., 1.],\n",
      "         [1., 1., 1.]]])\n",
      "tensor([[[1., 1., 1.]],\n",
      "\n",
      "        [[1., 1., 1.]]])\n",
      "tensor([[[1.],\n",
      "         [1.],\n",
      "         [1.]],\n",
      "\n",
      "        [[1.],\n",
      "         [1.],\n",
      "         [1.]]])\n"
     ]
    }
   ],
   "source": [
    "# Reshaping\n",
    "x = torch.ones(2, 3)\n",
    "print(x.reshape(3, 2))\n",
    "print(x.reshape(3, -1))\n",
    "print(x.reshape(-1, 2))\n",
    "print(x.flatten())\n",
    "print(x.reshape(-1))               # same as flatten\n",
    "print(x.reshape(-1, 6).squeeze())\n",
    "print(x.unsqueeze(dim=0))\n",
    "print(x.unsqueeze(dim=1))\n",
    "print(x.unsqueeze(dim=2))"
   ]
  },
  {
   "cell_type": "code",
   "execution_count": 10,
   "metadata": {},
   "outputs": [
    {
     "name": "stdout",
     "output_type": "stream",
     "text": [
      "tensor([[1., 1.],\n",
      "        [1., 1.],\n",
      "        [1., 1.]])\n",
      "tensor([[1., 1.],\n",
      "        [1., 1.],\n",
      "        [1., 1.]])\n",
      "tensor([[1., 1.],\n",
      "        [1., 1.],\n",
      "        [1., 1.]])\n",
      "tensor([1., 1., 1., 1., 1., 1.])\n"
     ]
    }
   ],
   "source": [
    "# torch.view returns a new tensor which is a view of the original tensor.\n",
    "# It will share data with the original tensor.\n",
    "# torch.reshape may create a new tensor.\n",
    "x = torch.ones(2, 3)\n",
    "print(x.view(3, 2))\n",
    "print(x.view(-1, 2))\n",
    "print(x.view(3, -1))\n",
    "print(x.view(-1))"
   ]
  },
  {
   "cell_type": "code",
   "execution_count": 67,
   "metadata": {},
   "outputs": [
    {
     "name": "stdout",
     "output_type": "stream",
     "text": [
      "tensor([[1., 1.],\n",
      "        [1., 1.],\n",
      "        [0., 0.],\n",
      "        [0., 0.]])\n",
      "tensor([[1., 1., 0., 0.],\n",
      "        [1., 1., 0., 0.]])\n",
      "tensor([[[1., 1.],\n",
      "         [1., 1.]],\n",
      "\n",
      "        [[0., 0.],\n",
      "         [0., 0.]]])\n"
     ]
    }
   ],
   "source": [
    "print(torch.cat((torch.ones(2, 2), torch.zeros(2, 2))))\n",
    "print(torch.cat((torch.ones(2, 2), torch.zeros(2, 2)), dim=1))\n",
    "print(torch.stack((torch.ones(2, 2), torch.zeros(2, 2))))"
   ]
  },
  {
   "cell_type": "code",
   "execution_count": 143,
   "metadata": {},
   "outputs": [
    {
     "name": "stdout",
     "output_type": "stream",
     "text": [
      "tensor([4, 6])\n",
      "tensor([[ 7, 10],\n",
      "        [15, 22]])\n",
      "tensor([[ 7, 10],\n",
      "        [15, 22]])\n",
      "tensor([[ 1,  4],\n",
      "        [ 9, 16]])\n",
      "tensor([[ 1,  4],\n",
      "        [ 9, 16]])\n",
      "tensor(10)\n",
      "tensor([ 1,  2,  6, 24])\n",
      "tensor(2.5000, dtype=torch.float64)\n",
      "tensor(1.2910, dtype=torch.float64)\n",
      "tensor([[6, 7],\n",
      "        [8, 9]])\n"
     ]
    }
   ],
   "source": [
    "# Operations\n",
    "print(torch.tensor([1, 2]) + torch.tensor([3, 4]))\n",
    "x = torch.tensor([[1, 2], [3, 4]])\n",
    "print(x.mm(x))\n",
    "print(x @ x)\n",
    "print(x.mul(x))\n",
    "print(x * x)\n",
    "print(torch.sum(x))\n",
    "print(torch.cumprod(torch.arange(1, 5), dim=0))\n",
    "print(torch.mean(x.double()))\n",
    "print(torch.std(x.type(torch.DoubleTensor)))\n",
    "x.add_(5)\n",
    "print(x)"
   ]
  },
  {
   "cell_type": "code",
   "execution_count": 13,
   "metadata": {},
   "outputs": [
    {
     "name": "stdout",
     "output_type": "stream",
     "text": [
      "[1 2]\n",
      "tensor([2, 3])\n",
      "[2 3]\n"
     ]
    }
   ],
   "source": [
    "a = torch.tensor([1, 2])\n",
    "b = a.numpy() # a & b share memory\n",
    "print(b)\n",
    "a.add_(1) # so updating a also updates b\n",
    "print(a)\n",
    "print(b)"
   ]
  },
  {
   "cell_type": "code",
   "execution_count": 14,
   "metadata": {},
   "outputs": [
    {
     "name": "stdout",
     "output_type": "stream",
     "text": [
      "False\n",
      "0\n",
      "tensor([0., 0., 0.])\n",
      "False\n",
      "cpu\n",
      "tensor([0., 0., 0.])\n"
     ]
    }
   ],
   "source": [
    "print(torch.cuda.is_available())\n",
    "print(torch.cuda.device_count())\n",
    "#print(torch.zeros(3).cuda())             # PyTorch must be compiled with CUDA enabled\n",
    "print(torch.zeros(3).cpu())\n",
    "print(torch.zeros(3).is_cuda)\n",
    "print(torch.zeros(3).device)\n",
    "device = torch.device(\"cuda\") if torch.cuda.is_available() else torch.device(\"cpu\")\n",
    "print(torch.zeros(3).to(device))"
   ]
  },
  {
   "cell_type": "markdown",
   "metadata": {},
   "source": [
    "### Autograd"
   ]
  },
  {
   "cell_type": "code",
   "execution_count": 41,
   "metadata": {},
   "outputs": [
    {
     "name": "stdout",
     "output_type": "stream",
     "text": [
      "False\n"
     ]
    }
   ],
   "source": [
    "print(torch.tensor(5).requires_grad)    # Variables are deprecated. Autograd supports Tensors"
   ]
  },
  {
   "cell_type": "code",
   "execution_count": 107,
   "metadata": {},
   "outputs": [
    {
     "name": "stdout",
     "output_type": "stream",
     "text": [
      "tensor([[3.1171]], grad_fn=<AddBackward0>)\n",
      "True\n",
      "tensor([[1.],\n",
      "        [1.],\n",
      "        [1.],\n",
      "        [1.],\n",
      "        [1.]])\n",
      "tensor([1.])\n",
      "None\n"
     ]
    }
   ],
   "source": [
    "x = torch.ones(1, 5)\n",
    "w = torch.rand(5, 1, requires_grad=True)\n",
    "b = torch.rand(1, requires_grad=True)\n",
    "y = x.mm(w) + b\n",
    "print(y)\n",
    "print(y.requires_grad)\n",
    "y.backward()\n",
    "print(w.grad)\n",
    "print(b.grad)\n",
    "print(x.grad)"
   ]
  },
  {
   "cell_type": "markdown",
   "metadata": {},
   "source": [
    "### Modules"
   ]
  },
  {
   "cell_type": "code",
   "execution_count": 106,
   "metadata": {},
   "outputs": [
    {
     "name": "stdout",
     "output_type": "stream",
     "text": [
      "Parameter containing:\n",
      "tensor([[-0.2835,  0.2894,  0.4138, -0.1660,  0.2369]], requires_grad=True)\n",
      "[Parameter containing:\n",
      "tensor([[-0.2835,  0.2894,  0.4138, -0.1660,  0.2369]], requires_grad=True), Parameter containing:\n",
      "tensor([0.3747], requires_grad=True)]\n",
      "tensor([0.8652], grad_fn=<AddBackward0>)\n"
     ]
    }
   ],
   "source": [
    "linear = torch.nn.Linear(5, 1)\n",
    "print(linear.weight)\n",
    "print(list(linear.parameters()))\n",
    "print(linear(torch.ones(5)))"
   ]
  },
  {
   "cell_type": "code",
   "execution_count": 123,
   "metadata": {
    "collapsed": true
   },
   "outputs": [],
   "source": [
    "class MyLinearModel(torch.nn.Module):\n",
    "    def __init__(self, n):\n",
    "        super(MyLinearModel, self).__init__()\n",
    "        self.w = torch.nn.Parameter(torch.rand(n, 1, requires_grad=True))\n",
    "        self.b = torch.nn.Parameter(torch.rand(1, requires_grad=True))\n",
    "\n",
    "    def forward(self, x):\n",
    "        return x.mm(self.w) + self.b"
   ]
  },
  {
   "cell_type": "code",
   "execution_count": 133,
   "metadata": {},
   "outputs": [
    {
     "name": "stdout",
     "output_type": "stream",
     "text": [
      "tensor([[2.9110]], grad_fn=<AddBackward0>)\n"
     ]
    }
   ],
   "source": [
    "my_linear = MyLinearModel(5)\n",
    "y = my_linear(torch.ones(1, 5))\n",
    "print(y)"
   ]
  },
  {
   "cell_type": "code",
   "execution_count": 125,
   "metadata": {},
   "outputs": [
    {
     "data": {
      "text/plain": [
       "[Parameter containing:\n",
       " tensor([[0.5733],\n",
       "         [0.5029],\n",
       "         [0.8559],\n",
       "         [0.9127],\n",
       "         [0.0204]], requires_grad=True), Parameter containing:\n",
       " tensor([0.1813], requires_grad=True)]"
      ]
     },
     "execution_count": 125,
     "metadata": {},
     "output_type": "execute_result"
    }
   ],
   "source": [
    "list(my_linear.parameters())"
   ]
  },
  {
   "cell_type": "code",
   "execution_count": 110,
   "metadata": {},
   "outputs": [
    {
     "data": {
      "text/plain": [
       "tensor([0, 1])"
      ]
     },
     "execution_count": 110,
     "metadata": {},
     "output_type": "execute_result"
    }
   ],
   "source": [
    "import torch.nn.functional as F\n",
    "F.relu(torch.tensor([-1, 1]))"
   ]
  },
  {
   "cell_type": "markdown",
   "metadata": {},
   "source": [
    "### Losses"
   ]
  },
  {
   "cell_type": "code",
   "execution_count": 129,
   "metadata": {},
   "outputs": [
    {
     "name": "stdout",
     "output_type": "stream",
     "text": [
      "tensor(1.)\n"
     ]
    }
   ],
   "source": [
    "loss = torch.nn.MSELoss()\n",
    "print(loss(torch.ones(5), torch.zeros(5)))"
   ]
  },
  {
   "cell_type": "markdown",
   "metadata": {},
   "source": [
    "### Optimizers"
   ]
  },
  {
   "cell_type": "code",
   "execution_count": 137,
   "metadata": {},
   "outputs": [
    {
     "name": "stdout",
     "output_type": "stream",
     "text": [
      "tensor([[0.7688],\n",
      "        [0.6662],\n",
      "        [0.0258],\n",
      "        [0.9909],\n",
      "        [0.6336]])\n",
      "tensor([[0.7678],\n",
      "        [0.6652],\n",
      "        [0.0248],\n",
      "        [0.9899],\n",
      "        [0.6326]])\n"
     ]
    }
   ],
   "source": [
    "x = torch.ones(1, 5)\n",
    "w = torch.rand(5, 1, requires_grad=True)\n",
    "y = x.mm(w).mean()\n",
    "\n",
    "y.backward()\n",
    "print(w.data)\n",
    "\n",
    "opt = torch.optim.SGD([w], lr=1e-3)\n",
    "opt.step()\n",
    "print(w.data)"
   ]
  },
  {
   "cell_type": "markdown",
   "metadata": {},
   "source": [
    "### Data Loading"
   ]
  },
  {
   "cell_type": "code",
   "execution_count": 142,
   "metadata": {},
   "outputs": [
    {
     "name": "stdout",
     "output_type": "stream",
     "text": [
      "0 tensor([ 0, 19,  6, 10])\n",
      "1 tensor([13,  5,  2,  4])\n",
      "2 tensor([11, 17,  1, 16])\n",
      "3 tensor([22, 14,  9,  8])\n",
      "4 tensor([ 3, 18, 12, 21])\n"
     ]
    }
   ],
   "source": [
    "import torch.utils.data\n",
    "\n",
    "class MyDataset(torch.utils.data.Dataset):\n",
    "  def __len__(self):\n",
    "    return 23\n",
    "\n",
    "  def __getitem__(self, index):\n",
    "    return index\n",
    "\n",
    "data_loader = torch.utils.data.DataLoader(\n",
    "    MyDataset(), batch_size=4, shuffle=True, num_workers=2, drop_last=True)\n",
    "\n",
    "for i, batch in enumerate(data_loader):\n",
    "    print(i, batch)"
   ]
  },
  {
   "cell_type": "markdown",
   "metadata": {},
   "source": [
    "Resources\n",
    "* http://www.goldsborough.me/ml/ai/python/2018/02/04/20-17-20-a_promenade_of_pytorch/\n",
    "* https://jhui.github.io/2018/02/09/PyTorch-Basic-operations/\n",
    "* http://deeplizard.com/learn/video/fCVuiW9AFzY"
   ]
  }
 ],
 "metadata": {
  "kernelspec": {
   "display_name": "Python 3",
   "language": "python",
   "name": "python3"
  },
  "language_info": {
   "codemirror_mode": {
    "name": "ipython",
    "version": 3
   },
   "file_extension": ".py",
   "mimetype": "text/x-python",
   "name": "python",
   "nbconvert_exporter": "python",
   "pygments_lexer": "ipython3",
   "version": "3.6.8"
  }
 },
 "nbformat": 4,
 "nbformat_minor": 2
}

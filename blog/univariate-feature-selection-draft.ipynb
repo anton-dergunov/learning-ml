{
 "cells": [
  {
   "cell_type": "markdown",
   "metadata": {},
   "source": [
    "# Univariate Feature Selection\n",
    "\n",
    "The goal of this article is to reproduce ... from book \"An Introduction to Information Retrieval\" and show one approach to feature selection...\n"
   ]
  },
  {
   "cell_type": "markdown",
   "metadata": {},
   "source": [
    "## Mutual Information\n",
    "\n",
    "[*Mutual information*](https://en.wikipedia.org/wiki/Mutual_information) (MI) is a measure of mutual dependence between two random variables. It measures \"the amount of information\" we get about one random variable through another random variable. The formula to calculate MI for two discrete random variables is:\n",
    "\n",
    "$$ I(X;Y) = \\sum_{x \\in X} \\sum_{y \\in Y} p(x,y) \\log{\\bigg( \\frac{p(x,y)}{p(x)p(y)} \\bigg)}. $$\n",
    "\n",
    "How is this formula derived? MI is linked to the concept of [*entropy*](https://en.wikipedia.org/wiki/Entropy_(information_theory)), which defines \"the amount of information\" held in a random variable. Entropy is calculated by the following formula:\n",
    "\n",
    "$$ H(X) = -\\sum_{x \\in X} p(x) \\log{p(x)}. $$\n",
    "\n",
    "In this article we use 2 as a base of logarithm.\n",
    "\n",
    "There are several ways for intuitive understanding of the entropy formula. One way to think about the entropy is the \"amount\" of uncertainty (or the \"amount of surprise\") about the random variable value. Consider random variable with the following probability mass function:\n",
    "\n",
    "$$\n",
    "p(X = x) =\n",
    "  \\begin{cases}\n",
    "    1, & \\text{if } x=x_0 \\\\\n",
    "    0, & \\text{otherwise}.\n",
    "  \\end{cases}\n",
    "$$\n",
    "\n",
    "In other words, random variable always takes value $x_o$. In this case entropy is minimal:\n",
    "\n",
    "$$ H(X) = -p(x_0) \\cdot \\log{p(x_0)} = -1 \\cdot \\log{1} = 0.$$\n",
    "\n",
    "Entropy takes maximum value when all values of a random variable are equally likely. This is quite intuitive, since in this case we can expect maximum surprise for the variable value. For example, if a random variable can take 4 different values equally likely, then entropy is:\n",
    "\n",
    "$$ H(X) = -4 \\cdot \\frac{1}{4} \\cdot \\log{\\frac{1}{4}} = -1 \\cdot (-2) = 2.$$\n",
    "\n",
    "Another way to think about entropy is the minimum number of bits required to deliver the random variable value. In the previous example we can effectively represent the value with 2 bits. Can we do better if values are not equally probable. \n",
    "\n",
    "[Huffman coding](https://en.wikipedia.org/wiki/Huffman_coding)\n",
    "\n",
    "$$\n",
    "\\begin{align}\n",
    "I(X; Y) &= H(X) + H(Y) - H(X;Y) \\\\\n",
    "        &= -\\sum_x p(x) \\log{p(x)} -\\sum_y p(y) \\log{p(y)} + \\sum_{x,y} p(x,y) \\log{p(x,y)} \\\\\n",
    "        &= -\\sum_x \\Big(\\sum_y p(y|x)\\Big) p(x) \\log{p(x)} -\\sum_y \\Big(\\sum_x p(x|y)\\Big) p(y) \\log{p(y)} + \\sum_{x,y} p(x,y) \\log{p(x,y)} \\\\\n",
    "        &= -\\sum_{x,y} p(y|x) p(x) \\log{p(x)} -\\sum_{x,y} p(x|y) p(y) \\log{p(y)} + \\sum_{x,y} p(x,y) \\log{p(x,y)} \\\\\n",
    "        &= -\\sum_{x,y} p(x,y) \\log{p(x)} -\\sum_{x,y} p(x,y) \\log{p(y)} + \\sum_{x,y} p(x,y) \\log{p(x,y)} \\\\\n",
    "        &= \\sum_{x,y} p(x,y) \\Big( -\\log{p(x)} -\\log{p(y)} + \\log{p(x,y)} \\Big) \\\\\n",
    "        &= \\sum_{x,y} p(x,y) \\log{\\bigg( \\frac{p(x,y)}{p(x)p(y)} \\bigg)}.\n",
    "\\end{align}\n",
    "$$\n",
    "\n",
    "\n",
    "![Relationship of information measures](diagram_small.png)\n",
    "\n"
   ]
  },
  {
   "cell_type": "code",
   "execution_count": 1,
   "metadata": {
    "inputHidden": false,
    "outputHidden": false
   },
   "outputs": [],
   "source": [
    "from sklearn.datasets import fetch_20newsgroups\n",
    "\n",
    "remove = ['headers', 'footers']\n",
    "newsgroups_train = fetch_20newsgroups(subset='train', remove=remove)\n",
    "newsgroups_test = fetch_20newsgroups(subset='test', remove=remove)"
   ]
  },
  {
   "cell_type": "code",
   "execution_count": 3,
   "metadata": {
    "inputHidden": false,
    "outputHidden": false
   },
   "outputs": [
    {
     "name": "stdout",
     "output_type": "stream",
     "text": [
      "['alt.atheism', 'comp.graphics', 'comp.os.ms-windows.misc', 'comp.sys.ibm.pc.hardware', 'comp.sys.mac.hardware', 'comp.windows.x', 'misc.forsale', 'rec.autos', 'rec.motorcycles', 'rec.sport.baseball', 'rec.sport.hockey', 'sci.crypt', 'sci.electronics', 'sci.med', 'sci.space', 'soc.religion.christian', 'talk.politics.guns', 'talk.politics.mideast', 'talk.politics.misc', 'talk.religion.misc']\n"
     ]
    }
   ],
   "source": [
    "print(newsgroups_train.target_names)"
   ]
  },
  {
   "cell_type": "code",
   "execution_count": 4,
   "metadata": {
    "inputHidden": false,
    "outputHidden": false
   },
   "outputs": [
    {
     "name": "stdout",
     "output_type": "stream",
     "text": [
      "Train posts: 11314\n",
      "Test posts: 7532\n"
     ]
    }
   ],
   "source": [
    "print(\"Train posts: %d\" % len(newsgroups_train.data))\n",
    "print(\"Test posts: %d\" % len(newsgroups_test.data))"
   ]
  },
  {
   "cell_type": "code",
   "execution_count": 5,
   "metadata": {
    "inputHidden": false,
    "outputHidden": false
   },
   "outputs": [
    {
     "name": "stdout",
     "output_type": "stream",
     "text": [
      "rec.autos\n",
      "I was wondering if anyone out there could enlighten me on this car I saw\n",
      "the other day. It was a 2-door sports car, looked to be from the late 60s/\n",
      "early 70s. It was called a Bricklin. The doors were \n",
      "----------------------\n",
      "comp.sys.mac.hardware\n",
      "A fair number of brave souls who upgraded their SI clock oscillator have\n",
      "shared their experiences for this poll. Please send a brief message detailing\n",
      "your experiences with the procedure. Top speed at\n",
      "----------------------\n",
      "comp.sys.mac.hardware\n",
      "well folks, my mac plus finally gave up the ghost this weekend after\n",
      "starting life as a 512k way back in 1985.  sooo, i'm in the market for a\n",
      "new machine a bit sooner than i intended to be...\n",
      "\n",
      "i'm loo\n",
      "----------------------\n",
      "comp.graphics\n",
      "Robert J.C. Kyanko (rob@rjck.UUCP) wrote:\n",
      "> abraxis@iastate.edu writes in article <abraxis.734340159@class1.iastate.edu>:\n",
      "> > Anyone know about the Weitek P9000 graphics chip?\n",
      "> As far as the low-leve\n",
      "----------------------\n",
      "sci.space\n",
      "From article <C5owCB.n3p@world.std.com>, by tombaker@world.std.com (Tom A Baker):\n",
      ">>In article <C5JLwx.4H9.1@cs.cmu.edu>, ETRAT@ttacs1.ttu.edu (Pack Rat) writes...\n",
      ">>>\"Clear caution & warning memory. \n",
      "----------------------\n"
     ]
    }
   ],
   "source": [
    "MAX_TEXT_LEN = 200\n",
    "for i in range(5):\n",
    "    print(newsgroups_train.target_names[newsgroups_train.target[i]])\n",
    "    print(newsgroups_train.data[i][:MAX_TEXT_LEN])\n",
    "    print(\"----------------------\")"
   ]
  },
  {
   "cell_type": "markdown",
   "metadata": {
    "inputHidden": false,
    "outputHidden": false
   },
   "source": [
    "If not present, Spacy can be installed using the following commands:"
   ]
  },
  {
   "cell_type": "code",
   "execution_count": null,
   "metadata": {
    "inputHidden": false,
    "outputHidden": false
   },
   "outputs": [],
   "source": [
    "!pip install -U spacy"
   ]
  },
  {
   "cell_type": "code",
   "execution_count": null,
   "metadata": {
    "inputHidden": false,
    "outputHidden": false
   },
   "outputs": [],
   "source": [
    "!python -m spacy download en"
   ]
  },
  {
   "cell_type": "code",
   "execution_count": 2,
   "metadata": {
    "inputHidden": false,
    "outputHidden": false
   },
   "outputs": [
    {
     "name": "stdout",
     "output_type": "stream",
     "text": [
      "test sentence bunch number skip\n"
     ]
    }
   ],
   "source": [
    "import spacy\n",
    "\n",
    "nlp = spacy.load('en', disable=[\"tagger\", \"parser\", \"ner\"])\n",
    "\n",
    "def clean_text(text):\n",
    "    # Current version of Spacy recognizes only lower-case stop words.\n",
    "    # https://github.com/explosion/spaCy/issues/1889\n",
    "    # So we convert text to lower case as a workaround\n",
    "    doc = nlp(text.lower())\n",
    "    return \" \".join([token.lemma_ for token in doc\n",
    "        if not token.is_punct and not token.is_stop and token.is_alpha])\n",
    "\n",
    "print(clean_text(\"This is a test sentence, and here is a bunch of numbers to skip: 42, 100.\"))"
   ]
  },
  {
   "cell_type": "code",
   "execution_count": 3,
   "metadata": {
    "inputHidden": false,
    "outputHidden": false
   },
   "outputs": [
    {
     "name": "stdout",
     "output_type": "stream",
     "text": [
      "CPU times: user 3min 20s, sys: 337 ms, total: 3min 20s\n",
      "Wall time: 3min 21s\n"
     ]
    }
   ],
   "source": [
    "%%time\n",
    "\n",
    "from sklearn.feature_extraction.text import CountVectorizer\n",
    "\n",
    "train_data = [clean_text(text) for text in newsgroups_train.data]\n",
    "test_data = [clean_text(text) for text in newsgroups_test.data]\n",
    "\n",
    "vectorizer = CountVectorizer()\n",
    "X_train = vectorizer.fit_transform(train_data)\n",
    "X_test = vectorizer.transform(test_data)"
   ]
  },
  {
   "cell_type": "code",
   "execution_count": 8,
   "metadata": {
    "inputHidden": false,
    "outputHidden": false
   },
   "outputs": [
    {
     "name": "stdout",
     "output_type": "stream",
     "text": [
      "49856 ['anulment', 'anulments', 'anus', 'anvil', 'anwar', 'anxietous', 'anxiety', 'anxious', 'anxiously', 'anyboby']\n"
     ]
    }
   ],
   "source": [
    "feature_names = vectorizer.get_feature_names()\n",
    "print(len(feature_names), feature_names[2000:2010])"
   ]
  },
  {
   "cell_type": "code",
   "execution_count": 87,
   "metadata": {
    "inputHidden": false,
    "outputHidden": false
   },
   "outputs": [],
   "source": [
    "from sklearn.naive_bayes import MultinomialNB\n",
    "#from sklearn.metrics import f1_score\n",
    "from sklearn.metrics import roc_auc_score\n",
    "\n",
    "def estimate_model_accuracy(X_train_, y_train_, X_test_, y_test_):\n",
    "    clf = MultinomialNB(alpha=0.01)\n",
    "    clf.fit(X_train_, y_train_)\n",
    "    pred = clf.predict(X_test_)\n",
    "    return roc_auc_score(y_test_, pred)"
   ]
  },
  {
   "cell_type": "code",
   "execution_count": 38,
   "metadata": {
    "inputHidden": false,
    "outputHidden": false
   },
   "outputs": [],
   "source": [
    "MAX_KEYWORD_COUNT=20\n",
    "def get_keywords(scoring, feature_names):\n",
    "    # Chi2 returns scores and p-values. We need to extract scores.\n",
    "    if len(scoring) == 2:\n",
    "        scoring = scoring[0]\n",
    "    \n",
    "    keywords = \"\"\n",
    "    for i in scoring.argsort()[-MAX_KEYWORD_COUNT:][::-1]:\n",
    "        keywords += \"%06f\\t%s\\n\" % (scoring[i], feature_names[i])\n",
    "    return keywords"
   ]
  },
  {
   "cell_type": "code",
   "execution_count": 92,
   "metadata": {
    "inputHidden": false,
    "outputHidden": false
   },
   "outputs": [
    {
     "name": "stdout",
     "output_type": "stream",
     "text": [
      "Processing group 'rec.autos'...\n",
      "CPU times: user 1min 49s, sys: 362 ms, total: 1min 49s\n",
      "Wall time: 1min 50s\n"
     ]
    }
   ],
   "source": [
    "%%time\n",
    "\n",
    "from sklearn.feature_selection import chi2\n",
    "from sklearn.feature_selection import mutual_info_classif\n",
    "from sklearn.feature_selection import SelectKBest\n",
    "\n",
    "#groups = ['comp.graphics']\n",
    "groups = ['rec.autos']\n",
    "\n",
    "STEPS_COUNT = 50\n",
    "keywords_table = []\n",
    "accuracy_scores = []\n",
    "for group in groups:\n",
    "    print(\"Processing group '%s'...\" % group)\n",
    "    group_index = newsgroups_train.target_names.index(group)\n",
    "    row = [group]\n",
    "    \n",
    "    y_train = [int(y == group_index) for y in newsgroups_train.target]\n",
    "    y_test = [int(y == group_index) for y in newsgroups_test.target]\n",
    "    \n",
    "    scorings = [\n",
    "        chi2(X_train, y_train),\n",
    "        mutual_info_classif(X_train, y_train, discrete_features=True)\n",
    "    ]\n",
    "    for scoring in scorings:\n",
    "        row.append(get_keywords(scoring, feature_names))\n",
    "    \n",
    "    accuracy = [[], [], []]\n",
    "    for i in range(STEPS_COUNT):\n",
    "        feature_count = int(X_train.shape[1] * (i+1) / STEPS_COUNT / 50)\n",
    "        \n",
    "        accuracy[0].append(\n",
    "            estimate_model_accuracy(X_train[:,:feature_count], y_train,\n",
    "                                    X_test[:,:feature_count], y_test))\n",
    "\n",
    "        for j, scoring in enumerate(scorings):\n",
    "            selection = SelectKBest((lambda x, y: scoring), k=feature_count)\n",
    "            accuracy[j+1].append(\n",
    "                estimate_model_accuracy(selection.fit_transform(X_train, y_train), y_train,\n",
    "                                        selection.transform(X_test), y_test))\n",
    "\n",
    "    accuracy_scores.append(accuracy)\n",
    "    keywords_table.append(row)"
   ]
  },
  {
   "cell_type": "code",
   "execution_count": 96,
   "metadata": {
    "inputHidden": false,
    "outputHidden": false
   },
   "outputs": [
    {
     "data": {
      "image/png": "[encoded data removed]",
      "text/plain": [
       "<matplotlib.figure.Figure at 0x1a15a760b8>"
      ]
     },
     "metadata": {
      "image/png": {
       "height": 304,
       "width": 876
      }
     },
     "output_type": "display_data"
    }
   ],
   "source": [
    "%matplotlib inline\n",
    "%config InlineBackend.figure_format = 'retina'\n",
    "import matplotlib.pyplot as plt\n",
    "\n",
    "def plot_model_accuracy(group, accuracy_scores):\n",
    "    plt.figure(figsize=(15,5))\n",
    "    for i, graph in enumerate(accuracy_scores):\n",
    "        plt.plot(graph, label=str(i))\n",
    "    plt.legend()\n",
    "\n",
    "plot_model_accuracy('comp.graphics', accuracy_scores[0])"
   ]
  },
  {
   "cell_type": "code",
   "execution_count": 94,
   "metadata": {
    "inputHidden": false,
    "outputHidden": false
   },
   "outputs": [
    {
     "data": {
      "text/html": [
       "<table><thead><tr><th>Newsgroup</th><th>Chi2</th><th>Mutual Information</th></tr></thead><tbody><tr><td>rec.autos</td><td>13835.704846\tcar<br>1680.386538\tbrake<br>1630.270521\tengine<br>1360.804507\tford<br>1175.691940\tdealer<br>1121.089666\toil<br>974.545455\tmustang<br>953.564807\twagon<br>935.887075\tsho<br>921.979916\ttire<br>834.919368\ttoyota<br>744.760858\twheel<br>737.719553\tconvertible<br>668.436953\ttaurus<br>653.488333\tsaturn<br>630.193144\tsedan<br>602.513532\tgt<br>593.728804\tintegra<br>576.099669\tchevy<br>555.683840\tmph<br></td><td>0.077285\tcar<br>0.014150\tengine<br>0.012154\tford<br>0.010092\tdealer<br>0.009626\ttoyota<br>0.008313\tdrive<br>0.007349\tmustang<br>0.007006\tauto<br>0.006730\tsedan<br>0.006365\twheel<br>0.006191\twagon<br>0.006035\toil<br>0.005956\tchevy<br>0.005865\ttaurus<br>0.005842\tmile<br>0.005825\thonda<br>0.005753\tcompartment<br>0.005605\tvehicle<br>0.005572\tgt<br>0.005524\trear<br></td></tr></tbody></table>"
      ],
      "text/plain": [
       "<IPython.core.display.HTML object>"
      ]
     },
     "metadata": {},
     "output_type": "display_data"
    }
   ],
   "source": [
    "from IPython.display import HTML, display\n",
    "\n",
    "def display_table(header, table):\n",
    "    html = \"<table><thead><tr>\"\n",
    "    for title in header:\n",
    "        html += \"<th>\" + title + \"</th>\"\n",
    "    html += \"</tr></thead><tbody>\"\n",
    "    for row in table:\n",
    "        html += \"<tr>\"\n",
    "        for cell in row:\n",
    "            html += \"<td>\" + cell.replace(\"\\n\",\"<br>\") + \"</td>\"\n",
    "        html += \"</tr>\"\n",
    "    html += \"</tbody></table>\"\n",
    "    display(HTML(html))\n",
    "    \n",
    "display_table([\"Newsgroup\", \"Chi2\", \"Mutual Information\"], keywords_table)"
   ]
  },
  {
   "cell_type": "code",
   "execution_count": 6,
   "metadata": {
    "inputHidden": false,
    "outputHidden": false
   },
   "outputs": [],
   "source": [
    "\n"
   ]
  },
  {
   "cell_type": "markdown",
   "metadata": {},
   "source": [
    "# Disadvantages of Univariate Feature Selection\n",
    "\n",
    "What are the disadvanges of using mutual information for feature selection? There are cases when a single feature is useless by itself, but becomes useful in combination with other features. But in practice, as we shown in the example in this article, it works well. Finding the best combination of features is NP-complete.\n",
    "\n",
    "\n",
    "# Other Methods of Feature Selection\n",
    "\n",
    "\n",
    "\n",
    "- http://scikit-learn.org/stable/modules/feature_selection.html\n",
    "- https://machinelearningmastery.com/an-introduction-to-feature-selection/\n",
    "- http://blog.datadive.net/selecting-good-features-part-i-univariate-selection/\n",
    "- http://blog.datadive.net/selecting-good-features-part-ii-linear-models-and-regularization/\n",
    "- http://blog.datadive.net/selecting-good-features-part-iii-random-forests/\n",
    "- http://blog.datadive.net/selecting-good-features-part-iv-stability-selection-rfe-and-everything-side-by-side/\n",
    "\n",
    "- https://thuijskens.github.io/2017/10/07/feature-selection/\n",
    "\n",
    "L1-penalty SVM is a surprisingly good feature selection algorithm for some tasks \n",
    "\n"
   ]
  },
  {
   "cell_type": "markdown",
   "metadata": {},
   "source": []
  },
  {
   "cell_type": "code",
   "execution_count": null,
   "metadata": {
    "inputHidden": false,
    "outputHidden": false
   },
   "outputs": [],
   "source": []
  }
 ],
 "metadata": {
  "kernel_info": {
   "name": "python3"
  },
  "kernelspec": {
   "display_name": "Python 3",
   "language": "python",
   "name": "python3"
  },
  "language_info": {
   "codemirror_mode": {
    "name": "ipython",
    "version": 3
   },
   "file_extension": ".py",
   "mimetype": "text/x-python",
   "name": "python",
   "nbconvert_exporter": "python",
   "pygments_lexer": "ipython3",
   "version": "3.6.8"
  },
  "nteract": {
   "version": "0.8.4"
  }
 },
 "nbformat": 4,
 "nbformat_minor": 4
}

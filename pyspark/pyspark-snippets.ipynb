{
 "metadata": {
  "language_info": {
   "codemirror_mode": {
    "name": "ipython",
    "version": 3
   },
   "file_extension": ".py",
   "mimetype": "text/x-python",
   "name": "python",
   "nbconvert_exporter": "python",
   "pygments_lexer": "ipython3",
   "version": "3.7.3-final"
  },
  "orig_nbformat": 2,
  "kernelspec": {
   "name": "python3",
   "display_name": "Python 3",
   "language": "python"
  }
 },
 "nbformat": 4,
 "nbformat_minor": 2,
 "cells": [
  {
   "source": [
    "Favorite books on PySpark:\n",
    "* Spark: The Definitive Guide https://learning.oreilly.com/library/view/spark-the-definitive/9781491912201/\n",
    "* Learning Spark https://learning.oreilly.com/library/view/learning-spark-2nd/9781492050032/\n",
    "\n",
    "Documentation:\n",
    "* https://spark.apache.org/docs/latest/api/python/index.html\n",
    "\n",
    "Data used in this notebook. TODO put a link"
   ],
   "cell_type": "markdown",
   "metadata": {}
  },
  {
   "cell_type": "code",
   "execution_count": 100,
   "metadata": {},
   "outputs": [],
   "source": [
    "from pyspark.sql import *\n",
    "from pyspark.sql.functions import *\n",
    "from pyspark.sql.types import *\n",
    "import pandas as pd\n",
    "import os"
   ]
  },
  {
   "source": [
    "# Creating Spark Session"
   ],
   "cell_type": "markdown",
   "metadata": {}
  },
  {
   "cell_type": "code",
   "execution_count": 2,
   "metadata": {},
   "outputs": [],
   "source": [
    "spark = SparkSession.builder.getOrCreate()"
   ]
  },
  {
   "cell_type": "code",
   "execution_count": 3,
   "metadata": {},
   "outputs": [
    {
     "output_type": "execute_result",
     "data": {
      "text/plain": [
       "<pyspark.sql.session.SparkSession at 0x7ff2fddd2048>"
      ],
      "text/html": "\n            <div>\n                <p><b>SparkSession - in-memory</b></p>\n                \n        <div>\n            <p><b>SparkContext</b></p>\n\n            <p><a href=\"http://192.168.0.21:4040\">Spark UI</a></p>\n\n            <dl>\n              <dt>Version</dt>\n                <dd><code>v2.4.4</code></dd>\n              <dt>Master</dt>\n                <dd><code>local[*]</code></dd>\n              <dt>AppName</dt>\n                <dd><code>pyspark-shell</code></dd>\n            </dl>\n        </div>\n        \n            </div>\n        "
     },
     "metadata": {},
     "execution_count": 3
    }
   ],
   "source": [
    "spark"
   ]
  },
  {
   "source": [
    "# Quick Overview"
   ],
   "cell_type": "markdown",
   "metadata": {}
  },
  {
   "cell_type": "code",
   "execution_count": 74,
   "metadata": {},
   "outputs": [
    {
     "output_type": "stream",
     "name": "stdout",
     "text": [
      "root\n |-- id: integer (nullable = true)\n |-- timestamp: timestamp (nullable = true)\n |-- full_sq: integer (nullable = true)\n |-- life_sq: string (nullable = true)\n |-- floor: string (nullable = true)\n |-- max_floor: string (nullable = true)\n |-- material: string (nullable = true)\n |-- build_year: string (nullable = true)\n |-- num_room: string (nullable = true)\n |-- kitch_sq: string (nullable = true)\n |-- state: string (nullable = true)\n |-- product_type: string (nullable = true)\n |-- sub_area: string (nullable = true)\n |-- area_m: double (nullable = true)\n |-- raion_popul: integer (nullable = true)\n |-- green_zone_part: double (nullable = true)\n |-- indust_part: double (nullable = true)\n |-- children_preschool: integer (nullable = true)\n |-- preschool_quota: string (nullable = true)\n |-- preschool_education_centers_raion: integer (nullable = true)\n |-- children_school: integer (nullable = true)\n |-- school_quota: string (nullable = true)\n |-- school_education_centers_raion: integer (nullable = true)\n |-- school_education_centers_top_20_raion: integer (nullable = true)\n |-- hospital_beds_raion: string (nullable = true)\n |-- healthcare_centers_raion: integer (nullable = true)\n |-- university_top_20_raion: integer (nullable = true)\n |-- sport_objects_raion: integer (nullable = true)\n |-- additional_education_raion: integer (nullable = true)\n |-- culture_objects_top_25: string (nullable = true)\n |-- culture_objects_top_25_raion: integer (nullable = true)\n |-- shopping_centers_raion: integer (nullable = true)\n |-- office_raion: integer (nullable = true)\n |-- thermal_power_plant_raion: string (nullable = true)\n |-- incineration_raion: string (nullable = true)\n |-- oil_chemistry_raion: string (nullable = true)\n |-- radiation_raion: string (nullable = true)\n |-- railroad_terminal_raion: string (nullable = true)\n |-- big_market_raion: string (nullable = true)\n |-- nuclear_reactor_raion: string (nullable = true)\n |-- detention_facility_raion: string (nullable = true)\n |-- full_all: integer (nullable = true)\n |-- male_f: integer (nullable = true)\n |-- female_f: integer (nullable = true)\n |-- young_all: integer (nullable = true)\n |-- young_male: integer (nullable = true)\n |-- young_female: integer (nullable = true)\n |-- work_all: integer (nullable = true)\n |-- work_male: integer (nullable = true)\n |-- work_female: integer (nullable = true)\n |-- ekder_all: integer (nullable = true)\n |-- ekder_male: integer (nullable = true)\n |-- ekder_female: integer (nullable = true)\n |-- 0_6_all: integer (nullable = true)\n |-- 0_6_male: integer (nullable = true)\n |-- 0_6_female: integer (nullable = true)\n |-- 7_14_all: integer (nullable = true)\n |-- 7_14_male: integer (nullable = true)\n |-- 7_14_female: integer (nullable = true)\n |-- 0_17_all: integer (nullable = true)\n |-- 0_17_male: integer (nullable = true)\n |-- 0_17_female: integer (nullable = true)\n |-- 16_29_all: integer (nullable = true)\n |-- 16_29_male: integer (nullable = true)\n |-- 16_29_female: integer (nullable = true)\n |-- 0_13_all: integer (nullable = true)\n |-- 0_13_male: integer (nullable = true)\n |-- 0_13_female: integer (nullable = true)\n |-- raion_build_count_with_material_info: string (nullable = true)\n |-- build_count_block: string (nullable = true)\n |-- build_count_wood: string (nullable = true)\n |-- build_count_frame: string (nullable = true)\n |-- build_count_brick: string (nullable = true)\n |-- build_count_monolith: string (nullable = true)\n |-- build_count_panel: string (nullable = true)\n |-- build_count_foam: string (nullable = true)\n |-- build_count_slag: string (nullable = true)\n |-- build_count_mix: string (nullable = true)\n |-- raion_build_count_with_builddate_info: string (nullable = true)\n |-- build_count_before_1920: string (nullable = true)\n |-- build_count_1921-1945: string (nullable = true)\n |-- build_count_1946-1970: string (nullable = true)\n |-- build_count_1971-1995: string (nullable = true)\n |-- build_count_after_1995: string (nullable = true)\n |-- ID_metro: integer (nullable = true)\n |-- metro_min_avto: double (nullable = true)\n |-- metro_km_avto: double (nullable = true)\n |-- metro_min_walk: string (nullable = true)\n |-- metro_km_walk: string (nullable = true)\n |-- kindergarten_km: double (nullable = true)\n |-- school_km: double (nullable = true)\n |-- park_km: double (nullable = true)\n |-- green_zone_km: double (nullable = true)\n |-- industrial_km: double (nullable = true)\n |-- water_treatment_km: double (nullable = true)\n |-- cemetery_km: double (nullable = true)\n |-- incineration_km: double (nullable = true)\n |-- railroad_station_walk_km: string (nullable = true)\n |-- railroad_station_walk_min: string (nullable = true)\n |-- ID_railroad_station_walk: string (nullable = true)\n |-- railroad_station_avto_km: double (nullable = true)\n |-- railroad_station_avto_min: double (nullable = true)\n |-- ID_railroad_station_avto: integer (nullable = true)\n |-- public_transport_station_km: double (nullable = true)\n |-- public_transport_station_min_walk: double (nullable = true)\n |-- water_km: double (nullable = true)\n |-- water_1line: string (nullable = true)\n |-- mkad_km: double (nullable = true)\n |-- ttk_km: double (nullable = true)\n |-- sadovoe_km: double (nullable = true)\n |-- bulvar_ring_km: double (nullable = true)\n |-- kremlin_km: double (nullable = true)\n |-- big_road1_km: double (nullable = true)\n |-- ID_big_road1: integer (nullable = true)\n |-- big_road1_1line: string (nullable = true)\n |-- big_road2_km: double (nullable = true)\n |-- ID_big_road2: integer (nullable = true)\n |-- railroad_km: double (nullable = true)\n |-- railroad_1line: string (nullable = true)\n |-- zd_vokzaly_avto_km: double (nullable = true)\n |-- ID_railroad_terminal: integer (nullable = true)\n |-- bus_terminal_avto_km: double (nullable = true)\n |-- ID_bus_terminal: integer (nullable = true)\n |-- oil_chemistry_km: double (nullable = true)\n |-- nuclear_reactor_km: double (nullable = true)\n |-- radiation_km: double (nullable = true)\n |-- power_transmission_line_km: double (nullable = true)\n |-- thermal_power_plant_km: double (nullable = true)\n |-- ts_km: double (nullable = true)\n |-- big_market_km: double (nullable = true)\n |-- market_shop_km: double (nullable = true)\n |-- fitness_km: double (nullable = true)\n |-- swim_pool_km: double (nullable = true)\n |-- ice_rink_km: double (nullable = true)\n |-- stadium_km: double (nullable = true)\n |-- basketball_km: double (nullable = true)\n |-- hospice_morgue_km: double (nullable = true)\n |-- detention_facility_km: double (nullable = true)\n |-- public_healthcare_km: double (nullable = true)\n |-- university_km: double (nullable = true)\n |-- workplaces_km: double (nullable = true)\n |-- shopping_centers_km: double (nullable = true)\n |-- office_km: double (nullable = true)\n |-- additional_education_km: double (nullable = true)\n |-- preschool_km: double (nullable = true)\n |-- big_church_km: double (nullable = true)\n |-- church_synagogue_km: double (nullable = true)\n |-- mosque_km: double (nullable = true)\n |-- theater_km: double (nullable = true)\n |-- museum_km: double (nullable = true)\n |-- exhibition_km: double (nullable = true)\n |-- catering_km: double (nullable = true)\n |-- ecology: string (nullable = true)\n |-- green_part_500: double (nullable = true)\n |-- prom_part_500: double (nullable = true)\n |-- office_count_500: integer (nullable = true)\n |-- office_sqm_500: integer (nullable = true)\n |-- trc_count_500: integer (nullable = true)\n |-- trc_sqm_500: integer (nullable = true)\n |-- cafe_count_500: integer (nullable = true)\n |-- cafe_sum_500_min_price_avg: string (nullable = true)\n |-- cafe_sum_500_max_price_avg: string (nullable = true)\n |-- cafe_avg_price_500: string (nullable = true)\n |-- cafe_count_500_na_price: integer (nullable = true)\n |-- cafe_count_500_price_500: integer (nullable = true)\n |-- cafe_count_500_price_1000: integer (nullable = true)\n |-- cafe_count_500_price_1500: integer (nullable = true)\n |-- cafe_count_500_price_2500: integer (nullable = true)\n |-- cafe_count_500_price_4000: integer (nullable = true)\n |-- cafe_count_500_price_high: integer (nullable = true)\n |-- big_church_count_500: integer (nullable = true)\n |-- church_count_500: integer (nullable = true)\n |-- mosque_count_500: integer (nullable = true)\n |-- leisure_count_500: integer (nullable = true)\n |-- sport_count_500: integer (nullable = true)\n |-- market_count_500: integer (nullable = true)\n |-- green_part_1000: double (nullable = true)\n |-- prom_part_1000: double (nullable = true)\n |-- office_count_1000: integer (nullable = true)\n |-- office_sqm_1000: integer (nullable = true)\n |-- trc_count_1000: integer (nullable = true)\n |-- trc_sqm_1000: integer (nullable = true)\n |-- cafe_count_1000: integer (nullable = true)\n |-- cafe_sum_1000_min_price_avg: string (nullable = true)\n |-- cafe_sum_1000_max_price_avg: string (nullable = true)\n |-- cafe_avg_price_1000: string (nullable = true)\n |-- cafe_count_1000_na_price: integer (nullable = true)\n |-- cafe_count_1000_price_500: integer (nullable = true)\n |-- cafe_count_1000_price_1000: integer (nullable = true)\n |-- cafe_count_1000_price_1500: integer (nullable = true)\n |-- cafe_count_1000_price_2500: integer (nullable = true)\n |-- cafe_count_1000_price_4000: integer (nullable = true)\n |-- cafe_count_1000_price_high: integer (nullable = true)\n |-- big_church_count_1000: integer (nullable = true)\n |-- church_count_1000: integer (nullable = true)\n |-- mosque_count_1000: integer (nullable = true)\n |-- leisure_count_1000: integer (nullable = true)\n |-- sport_count_1000: integer (nullable = true)\n |-- market_count_1000: integer (nullable = true)\n |-- green_part_1500: double (nullable = true)\n |-- prom_part_1500: double (nullable = true)\n |-- office_count_1500: integer (nullable = true)\n |-- office_sqm_1500: integer (nullable = true)\n |-- trc_count_1500: integer (nullable = true)\n |-- trc_sqm_1500: integer (nullable = true)\n |-- cafe_count_1500: integer (nullable = true)\n |-- cafe_sum_1500_min_price_avg: string (nullable = true)\n |-- cafe_sum_1500_max_price_avg: string (nullable = true)\n |-- cafe_avg_price_1500: string (nullable = true)\n |-- cafe_count_1500_na_price: integer (nullable = true)\n |-- cafe_count_1500_price_500: integer (nullable = true)\n |-- cafe_count_1500_price_1000: integer (nullable = true)\n |-- cafe_count_1500_price_1500: integer (nullable = true)\n |-- cafe_count_1500_price_2500: integer (nullable = true)\n |-- cafe_count_1500_price_4000: integer (nullable = true)\n |-- cafe_count_1500_price_high: integer (nullable = true)\n |-- big_church_count_1500: integer (nullable = true)\n |-- church_count_1500: integer (nullable = true)\n |-- mosque_count_1500: integer (nullable = true)\n |-- leisure_count_1500: integer (nullable = true)\n |-- sport_count_1500: integer (nullable = true)\n |-- market_count_1500: integer (nullable = true)\n |-- green_part_2000: double (nullable = true)\n |-- prom_part_2000: double (nullable = true)\n |-- office_count_2000: integer (nullable = true)\n |-- office_sqm_2000: integer (nullable = true)\n |-- trc_count_2000: integer (nullable = true)\n |-- trc_sqm_2000: integer (nullable = true)\n |-- cafe_count_2000: integer (nullable = true)\n |-- cafe_sum_2000_min_price_avg: string (nullable = true)\n |-- cafe_sum_2000_max_price_avg: string (nullable = true)\n |-- cafe_avg_price_2000: string (nullable = true)\n |-- cafe_count_2000_na_price: integer (nullable = true)\n |-- cafe_count_2000_price_500: integer (nullable = true)\n |-- cafe_count_2000_price_1000: integer (nullable = true)\n |-- cafe_count_2000_price_1500: integer (nullable = true)\n |-- cafe_count_2000_price_2500: integer (nullable = true)\n |-- cafe_count_2000_price_4000: integer (nullable = true)\n |-- cafe_count_2000_price_high: integer (nullable = true)\n |-- big_church_count_2000: integer (nullable = true)\n |-- church_count_2000: integer (nullable = true)\n |-- mosque_count_2000: integer (nullable = true)\n |-- leisure_count_2000: integer (nullable = true)\n |-- sport_count_2000: integer (nullable = true)\n |-- market_count_2000: integer (nullable = true)\n |-- green_part_3000: double (nullable = true)\n |-- prom_part_3000: double (nullable = true)\n |-- office_count_3000: integer (nullable = true)\n |-- office_sqm_3000: integer (nullable = true)\n |-- trc_count_3000: integer (nullable = true)\n |-- trc_sqm_3000: integer (nullable = true)\n |-- cafe_count_3000: integer (nullable = true)\n |-- cafe_sum_3000_min_price_avg: string (nullable = true)\n |-- cafe_sum_3000_max_price_avg: string (nullable = true)\n |-- cafe_avg_price_3000: string (nullable = true)\n |-- cafe_count_3000_na_price: integer (nullable = true)\n |-- cafe_count_3000_price_500: integer (nullable = true)\n |-- cafe_count_3000_price_1000: integer (nullable = true)\n |-- cafe_count_3000_price_1500: integer (nullable = true)\n |-- cafe_count_3000_price_2500: integer (nullable = true)\n |-- cafe_count_3000_price_4000: integer (nullable = true)\n |-- cafe_count_3000_price_high: integer (nullable = true)\n |-- big_church_count_3000: integer (nullable = true)\n |-- church_count_3000: integer (nullable = true)\n |-- mosque_count_3000: integer (nullable = true)\n |-- leisure_count_3000: integer (nullable = true)\n |-- sport_count_3000: integer (nullable = true)\n |-- market_count_3000: integer (nullable = true)\n |-- green_part_5000: double (nullable = true)\n |-- prom_part_5000: string (nullable = true)\n |-- office_count_5000: integer (nullable = true)\n |-- office_sqm_5000: integer (nullable = true)\n |-- trc_count_5000: integer (nullable = true)\n |-- trc_sqm_5000: integer (nullable = true)\n |-- cafe_count_5000: integer (nullable = true)\n |-- cafe_sum_5000_min_price_avg: string (nullable = true)\n |-- cafe_sum_5000_max_price_avg: string (nullable = true)\n |-- cafe_avg_price_5000: string (nullable = true)\n |-- cafe_count_5000_na_price: integer (nullable = true)\n |-- cafe_count_5000_price_500: integer (nullable = true)\n |-- cafe_count_5000_price_1000: integer (nullable = true)\n |-- cafe_count_5000_price_1500: integer (nullable = true)\n |-- cafe_count_5000_price_2500: integer (nullable = true)\n |-- cafe_count_5000_price_4000: integer (nullable = true)\n |-- cafe_count_5000_price_high: integer (nullable = true)\n |-- big_church_count_5000: integer (nullable = true)\n |-- church_count_5000: integer (nullable = true)\n |-- mosque_count_5000: integer (nullable = true)\n |-- leisure_count_5000: integer (nullable = true)\n |-- sport_count_5000: integer (nullable = true)\n |-- market_count_5000: integer (nullable = true)\n |-- price_doc: integer (nullable = true)\n\n"
     ]
    }
   ],
   "source": [
    "SBERBANK_BASE_DIR = \"/Users/anton/datasets/sberbank_russian_housing_market\"\n",
    "SBERBANK_PATH_FULL = os.path.join(SBERBANK_BASE_DIR, \"train.csv\")\n",
    "SBERBANK_PATH_SUBSET = os.path.join(SBERBANK_BASE_DIR, \"train_subset.csv\")\n",
    "\n",
    "df_full = spark.read.option(\"inferSchema\", \"true\").option(\"header\", \"true\").csv(SBERBANK_PATH_FULL)\n",
    "df_full.printSchema()"
   ]
  },
  {
   "cell_type": "code",
   "execution_count": 75,
   "metadata": {},
   "outputs": [
    {
     "output_type": "display_data",
     "data": {
      "text/plain": "   id  timestamp  full_sq life_sq floor max_floor material build_year  \\\n0   1 2011-08-20       43      27     4        NA       NA         NA   \n1   2 2011-08-23       34      19     3        NA       NA         NA   \n2   3 2011-08-27       43      29     2        NA       NA         NA   \n3   4 2011-09-01       89      50     9        NA       NA         NA   \n4   5 2011-09-05       77      77     4        NA       NA         NA   \n\n  num_room kitch_sq state product_type           sub_area        area_m  \\\n0       NA       NA    NA   Investment           Bibirevo  6.407578e+06   \n1       NA       NA    NA   Investment  Nagatinskij Zaton  9.589337e+06   \n2       NA       NA    NA   Investment     Tekstil'shhiki  4.808270e+06   \n3       NA       NA    NA   Investment             Mitino  1.258354e+07   \n4       NA       NA    NA   Investment          Basmannoe  8.398461e+06   \n\n   raion_popul  green_zone_part  indust_part  children_preschool  \\\n0       155572         0.189727     0.000070                9576   \n1       115352         0.372602     0.049637                6880   \n2       101708         0.112560     0.118537                5879   \n3       178473         0.194703     0.069753               13087   \n4       108171         0.015234     0.037316                5706   \n\n  preschool_quota  preschool_education_centers_raion  children_school  \\\n0            5001                                  5            10309   \n1            3119                                  5             7759   \n2            1463                                  4             6207   \n3            6839                                  9            13670   \n4            3240                                  7             6748   \n\n  school_quota  school_education_centers_raion  \\\n0        11065                               5   \n1         6237                               8   \n2         5580                               7   \n3        17063                              10   \n4         7770                               9   \n\n   school_education_centers_top_20_raion hospital_beds_raion  \\\n0                                      0                 240   \n1                                      0                 229   \n2                                      0                1183   \n3                                      0                  NA   \n4                                      0                 562   \n\n   healthcare_centers_raion  university_top_20_raion  sport_objects_raion  \\\n0                         1                        0                    7   \n1                         1                        0                    6   \n2                         1                        0                    5   \n3                         1                        0                   17   \n4                         4                        2                   25   \n\n   additional_education_raion culture_objects_top_25  \\\n0                           3                     no   \n1                           1                    yes   \n2                           1                     no   \n3                           6                     no   \n4                           2                     no   \n\n   culture_objects_top_25_raion  shopping_centers_raion  office_raion  \\\n0                             0                      16             1   \n1                             1                       3             0   \n2                             0                       0             1   \n3                             0                      11             4   \n4                             0                      10            93   \n\n  thermal_power_plant_raion incineration_raion oil_chemistry_raion  \\\n0                        no                 no                  no   \n1                        no                 no                  no   \n2                        no                 no                  no   \n3                        no                 no                  no   \n4                        no                 no                  no   \n\n  radiation_raion railroad_terminal_raion big_market_raion  \\\n0              no                      no               no   \n1              no                      no               no   \n2             yes                      no               no   \n3              no                      no               no   \n4             yes                     yes               no   \n\n  nuclear_reactor_raion detention_facility_raion  full_all  male_f  female_f  \\\n0                    no                       no     86206   40477     45729   \n1                    no                       no     76284   34200     42084   \n2                    no                       no    101982   46076     55906   \n3                    no                       no     21155    9828     11327   \n4                    no                       no     28179   13522     14657   \n\n   young_all  young_male  young_female  work_all  work_male  work_female  \\\n0      21154       11007         10147     98207      52277        45930   \n1      15727        7925          7802     70194      35622        34572   \n2      13028        6835          6193     63388      31813        31575   \n3      28563       14680         13883    120381      60040        60341   \n4      13368        7159          6209     68043      34236        33807   \n\n   ekder_all  ekder_male  ekder_female  0_6_all  0_6_male  0_6_female  \\\n0      36211       10580         25631     9576      4899        4677   \n1      29431        9266         20165     6880      3466        3414   \n2      25292        7609         17683     5879      3095        2784   \n3      29529        9083         20446    13087      6645        6442   \n4      26760        8563         18197     5706      2982        2724   \n\n   7_14_all  7_14_male  7_14_female  0_17_all  0_17_male  0_17_female  \\\n0     10309       5463         4846     23603      12286        11317   \n1      7759       3909         3850     17700       8998         8702   \n2      6207       3269         2938     14884       7821         7063   \n3     13670       7126         6544     32063      16513        15550   \n4      6748       3664         3084     15237       8113         7124   \n\n   16_29_all  16_29_male  16_29_female  0_13_all  0_13_male  0_13_female  \\\n0      17508        9425          8083     18654       9709         8945   \n1      15164        7571          7593     13729       6929         6800   \n2      19401        9045         10356     11252       5916         5336   \n3       3292        1450          1842     24934      12782        12152   \n4       5164        2583          2581     11631       6223         5408   \n\n  raion_build_count_with_material_info build_count_block build_count_wood  \\\n0                                  211                25                0   \n1                                  245                83                1   \n2                                  330                59                0   \n3                                  458                 9               51   \n4                                  746                48                0   \n\n  build_count_frame build_count_brick build_count_monolith build_count_panel  \\\n0                 0                 0                    2               184   \n1                 0                67                    4                90   \n2                 0               206                    4                60   \n3                12               124                   50               201   \n4                 0               643                   16                35   \n\n  build_count_foam build_count_slag build_count_mix  \\\n0                0                0               0   \n1                0                0               0   \n2                0                1               0   \n3                0                9               2   \n4                0                3               1   \n\n  raion_build_count_with_builddate_info build_count_before_1920  \\\n0                                   211                       0   \n1                                   244                       1   \n2                                   330                       1   \n3                                   459                      13   \n4                                   746                     371   \n\n  build_count_1921-1945 build_count_1946-1970 build_count_1971-1995  \\\n0                     0                     0                   206   \n1                     1                   143                    84   \n2                     0                   246                    63   \n3                    24                    40                   130   \n4                   114                   146                    62   \n\n  build_count_after_1995  ID_metro  metro_min_avto  metro_km_avto  \\\n0                      5         1        2.590241       1.131260   \n1                     15         2        0.936700       0.647337   \n2                     20         3        2.120999       1.637996   \n3                    252         4        1.489049       0.984537   \n4                     53         5        1.257186       0.876620   \n\n  metro_min_walk metro_km_walk  kindergarten_km  school_km   park_km  \\\n0    13.57511887   1.131259906         0.145700   0.177975  2.158587   \n1    7.620630408   0.635052534         0.147754   0.273345  0.550690   \n2     17.3515154   1.445959617         0.049102   0.158072  0.374848   \n3    11.56562408   0.963802007         0.179441   0.236455  0.078090   \n4    8.266305238    0.68885877         0.247901   0.376838  0.258289   \n\n   green_zone_km  industrial_km  water_treatment_km  cemetery_km  \\\n0       0.600973       1.080934           23.683460     1.804127   \n1       0.065321       0.966479            1.317476     4.655004   \n2       0.453172       0.939275            4.912660     3.381083   \n3       0.106125       0.451173           15.623710     2.017080   \n4       0.236214       0.392871           10.683540     2.936581   \n\n   incineration_km railroad_station_walk_km railroad_station_walk_min  \\\n0         3.633334              5.419893032               65.03871639   \n1         8.648587              3.411993084                 40.943917   \n2        11.996480              1.277658039               15.33189647   \n3        14.317640                4.2914325               51.49719001   \n4        11.903910              0.853960072               10.24752087   \n\n  ID_railroad_station_walk  railroad_station_avto_km  \\\n0                        1                  5.419893   \n1                        2                  3.641773   \n2                        3                  1.277658   \n3                        4                  3.816045   \n4                        5                  1.595898   \n\n   railroad_station_avto_min  ID_railroad_station_avto  \\\n0                   6.905893                         1   \n1                   4.679745                         2   \n2                   1.701420                         3   \n3                   5.271136                         4   \n4                   2.156284                       113   \n\n   public_transport_station_km  public_transport_station_min_walk  water_km  \\\n0                     0.274985                           3.299822  0.992631   \n1                     0.065263                           0.783160  0.698081   \n2                     0.328756                           3.945073  0.468265   \n3                     0.131597                           1.579164  1.200336   \n4                     0.071480                           0.857764  0.820294   \n\n  water_1line    mkad_km     ttk_km  sadovoe_km  bulvar_ring_km  kremlin_km  \\\n0          no   1.422391  10.918587   13.100618       13.675657   15.156211   \n1          no   9.503405   3.103996    6.444333        8.132640    8.698054   \n2          no   5.604800   2.927487    6.963403        8.054252    9.067885   \n3          no   2.677824  14.606501   17.457198       18.309433   19.487005   \n4          no  11.616653   1.721834    0.046810        0.787593    2.578671   \n\n   big_road1_km  ID_big_road1 big_road1_1line  big_road2_km  ID_big_road2  \\\n0      1.422391             1              no      3.830951             5   \n1      2.887377             2              no      3.103996             4   \n2      0.647250             3              no      2.927487             4   \n3      2.677824             1              no      2.780449            17   \n4      1.721834             4              no      3.133531            10   \n\n   railroad_km railroad_1line  zd_vokzaly_avto_km  ID_railroad_terminal  \\\n0     1.305159             no           14.231961                   101   \n1     0.694536             no            9.242586                    32   \n2     0.700691             no            9.540544                     5   \n3     1.999265             no           17.478380                    83   \n4     0.084113            yes            1.595898                   113   \n\n   bus_terminal_avto_km  ID_bus_terminal  oil_chemistry_km  \\\n0             24.292406                1         18.152338   \n1              5.706113                2          9.034642   \n2              6.710302                3          5.777394   \n3              6.734618                1         27.667863   \n4              1.423428                4          6.515857   \n\n   nuclear_reactor_km  radiation_km  power_transmission_line_km  \\\n0            5.718519      1.210027                    1.062513   \n1            3.489954      2.724295                    1.246149   \n2            7.506612      0.772216                    1.602183   \n3            9.522538      6.348716                    1.767612   \n4            8.671016      1.638318                    3.632640   \n\n   thermal_power_plant_km     ts_km  big_market_km  market_shop_km  \\\n0                5.814135  4.308127      10.814172        1.676258   \n1                3.419574  0.725560       6.910568        3.424716   \n2                3.682455  3.562188       5.752368        1.375443   \n3               11.178333  0.583025      27.892717        0.811275   \n4                4.587917  2.609420       9.155057        1.969738   \n\n   fitness_km  swim_pool_km  ice_rink_km  stadium_km  basketball_km  \\\n0    0.485841      3.065047     1.107594    8.148591       3.516513   \n1    0.668364      2.000154     8.972823    6.127073       1.161579   \n2    0.733101      1.239304     1.978517    0.767569       1.952771   \n3    0.623484      1.950317     6.483172    7.385521       4.923843   \n4    0.220288      2.544696     3.975401    3.610754       0.307915   \n\n   hospice_morgue_km  detention_facility_km  public_healthcare_km  \\\n0           2.392353               4.248036              0.974743   \n1           2.543747              12.649879              1.477723   \n2           0.621357               7.682303              0.097144   \n3           3.549558               8.789894              2.163735   \n4           1.864637               3.779781              1.121703   \n\n   university_km  workplaces_km  shopping_centers_km  office_km  \\\n0       6.715026       0.884350             0.648488   0.637189   \n1       1.852560       0.686252             0.519311   0.688796   \n2       0.841254       1.510089             1.486533   1.543049   \n3      10.903161       0.622272             0.599914   0.934273   \n4       0.991683       0.892668             0.429052   0.077901   \n\n   additional_education_km  preschool_km  big_church_km  church_synagogue_km  \\\n0                 0.947962      0.177975       0.625783             0.628187   \n1                 1.072315      0.273345       0.967821             0.471447   \n2                 0.391957      0.158072       3.178751             0.755946   \n3                 0.892674      0.236455       1.031777             1.561505   \n4                 0.810801      0.376838       0.378756             0.121681   \n\n   mosque_km  theater_km  museum_km  exhibition_km  catering_km    ecology  \\\n0   3.932040   14.053047   7.389498       7.023705     0.516838       good   \n1   4.841544    6.829889   0.709260       2.358840     0.230287  excellent   \n2   7.922152    4.273200   3.156423       4.958214     0.190462       poor   \n3  15.300449   16.990677  16.041521       5.029696     0.465820       good   \n4   2.584370    1.112486   1.800125       1.339652     0.026102  excellent   \n\n   green_part_500  prom_part_500  office_count_500  office_sqm_500  \\\n0            0.00           0.00                 0               0   \n1           25.14           0.00                 0               0   \n2            1.67           0.00                 0               0   \n3           17.36           0.57                 0               0   \n4            3.56           4.44                15          293699   \n\n   trc_count_500  trc_sqm_500  cafe_count_500 cafe_sum_500_min_price_avg  \\\n0              0            0               0                         NA   \n1              0            0               5                        860   \n2              0            0               3                     666.67   \n3              0            0               2                        1e3   \n4              1        45000              48                     702.22   \n\n  cafe_sum_500_max_price_avg cafe_avg_price_500  cafe_count_500_na_price  \\\n0                         NA                 NA                        0   \n1                       1500               1180                        0   \n2                    1166.67             916.67                        0   \n3                       1500               1250                        0   \n4                    1166.67             934.44                        3   \n\n   cafe_count_500_price_500  cafe_count_500_price_1000  \\\n0                         0                          0   \n1                         1                          3   \n2                         0                          2   \n3                         0                          0   \n4                        17                         10   \n\n   cafe_count_500_price_1500  cafe_count_500_price_2500  \\\n0                          0                          0   \n1                          0                          0   \n2                          1                          0   \n3                          2                          0   \n4                         11                          7   \n\n   cafe_count_500_price_4000  cafe_count_500_price_high  big_church_count_500  \\\n0                          0                          0                     0   \n1                          1                          0                     0   \n2                          0                          0                     0   \n3                          0                          0                     0   \n4                          0                          0                     1   \n\n   church_count_500  mosque_count_500  leisure_count_500  sport_count_500  \\\n0                 0                 0                  0                1   \n1                 1                 0                  0                0   \n2                 0                 0                  0                0   \n3                 0                 0                  0                0   \n4                 4                 0                  2                3   \n\n   market_count_500  green_part_1000  prom_part_1000  office_count_1000  \\\n0                 0             7.36            0.00                  1   \n1                 0            26.66            0.07                  2   \n2                 0             4.99            0.29                  0   \n3                 0            19.25           10.35                  1   \n4                 0             3.34            8.29                 46   \n\n   office_sqm_1000  trc_count_1000  trc_sqm_1000  cafe_count_1000  \\\n0            30500               3         55600               19   \n1            86600               5         94065               13   \n2                0               0             0                9   \n3            11000               6         80780               12   \n4           420952               3        158200              153   \n\n  cafe_sum_1000_min_price_avg cafe_sum_1000_max_price_avg cafe_avg_price_1000  \\\n0                      527.78                      888.89              708.33   \n1                      615.38                     1076.92              846.15   \n2                      642.86                     1142.86              892.86   \n3                      658.33                     1083.33              870.83   \n4                      763.45                     1272.41             1017.93   \n\n   cafe_count_1000_na_price  cafe_count_1000_price_500  \\\n0                         1                         10   \n1                         0                          5   \n2                         2                          0   \n3                         0                          3   \n4                         8                         39   \n\n   cafe_count_1000_price_1000  cafe_count_1000_price_1500  \\\n0                           4                           3   \n1                           6                           1   \n2                           5                           2   \n3                           4                           5   \n4                          45                          39   \n\n   cafe_count_1000_price_2500  cafe_count_1000_price_4000  \\\n0                           1                           0   \n1                           0                           1   \n2                           0                           0   \n3                           0                           0   \n4                          19                           2   \n\n   cafe_count_1000_price_high  big_church_count_1000  church_count_1000  \\\n0                           0                      1                  2   \n1                           0                      1                  2   \n2                           0                      0                  1   \n3                           0                      0                  0   \n4                           1                      7                 12   \n\n   mosque_count_1000  leisure_count_1000  sport_count_1000  market_count_1000  \\\n0                  0                   0                 6                  1   \n1                  0                   4                 2                  0   \n2                  0                   0                 5                  3   \n3                  0                   0                 3                  1   \n4                  0                   6                 7                  0   \n\n   green_part_1500  prom_part_1500  office_count_1500  office_sqm_1500  \\\n0            14.27            6.92                  3            39554   \n1            21.53            7.71                  3           102910   \n2             9.92            6.73                  0                0   \n3            28.38            6.57                  2            11000   \n4             4.12            4.83                 93          1195735   \n\n   trc_count_1500  trc_sqm_1500  cafe_count_1500 cafe_sum_1500_min_price_avg  \\\n0               9        171420               34                      566.67   \n1               7        127065               17                      694.12   \n2               1          2600               14                      516.67   \n3               7         89492               23                      673.91   \n4               9        445900              272                       766.8   \n\n  cafe_sum_1500_max_price_avg cafe_avg_price_1500  cafe_count_1500_na_price  \\\n0                       969.7              768.18                         1   \n1                     1205.88                 950                         0   \n2                      916.67              716.67                         2   \n3                     1130.43              902.17                         0   \n4                     1272.73             1019.76                        19   \n\n   cafe_count_1500_price_500  cafe_count_1500_price_1000  \\\n0                         14                          11   \n1                          6                           7   \n2                          4                           6   \n3                          5                           9   \n4                         70                          74   \n\n   cafe_count_1500_price_1500  cafe_count_1500_price_2500  \\\n0                           6                           2   \n1                           1                           2   \n2                           2                           0   \n3                           8                           1   \n4                          72                          30   \n\n   cafe_count_1500_price_4000  cafe_count_1500_price_high  \\\n0                           0                           0   \n1                           1                           0   \n2                           0                           0   \n3                           0                           0   \n4                           6                           1   \n\n   big_church_count_1500  church_count_1500  mosque_count_1500  \\\n0                      1                  2                  0   \n1                      1                  5                  0   \n2                      0                  4                  0   \n3                      1                  0                  0   \n4                     18                 30                  0   \n\n   leisure_count_1500  sport_count_1500  market_count_1500  green_part_2000  \\\n0                   0                 7                  1            11.77   \n1                   4                 9                  0            22.37   \n2                   0                 6                  5            12.99   \n3                   0                 9                  2            32.29   \n4                  10                14                  2             4.53   \n\n   prom_part_2000  office_count_2000  office_sqm_2000  trc_count_2000  \\\n0           15.97                  9           188854              19   \n1           19.25                  4           165510               8   \n2           12.75                  4           100200               7   \n3            5.73                  2            11000               7   \n4            5.02                149          1625130              17   \n\n   trc_sqm_2000  cafe_count_2000 cafe_sum_2000_min_price_avg  \\\n0       1244891               36                      614.29   \n1        179065               21                      695.24   \n2         52550               24                      563.64   \n3         89492               25                         660   \n4        564843              483                      765.93   \n\n  cafe_sum_2000_max_price_avg cafe_avg_price_2000  cafe_count_2000_na_price  \\\n0                     1042.86              828.57                         1   \n1                     1190.48              942.86                         0   \n2                      977.27              770.45                         2   \n3                        1120                 890                         0   \n4                     1269.23             1017.58                        28   \n\n   cafe_count_2000_price_500  cafe_count_2000_price_1000  \\\n0                         15                          11   \n1                          7                           8   \n2                          8                           9   \n3                          5                          11   \n4                        130                         129   \n\n   cafe_count_2000_price_1500  cafe_count_2000_price_2500  \\\n0                           6                           2   \n1                           3                           2   \n2                           4                           1   \n3                           8                           1   \n4                         131                          50   \n\n   cafe_count_2000_price_4000  cafe_count_2000_price_high  \\\n0                           1                           0   \n1                           1                           0   \n2                           0                           0   \n3                           0                           0   \n4                          14                           1   \n\n   big_church_count_2000  church_count_2000  mosque_count_2000  \\\n0                      1                  2                  0   \n1                      1                  5                  0   \n2                      0                  4                  0   \n3                      1                  1                  0   \n4                     35                 61                  0   \n\n   leisure_count_2000  sport_count_2000  market_count_2000  green_part_3000  \\\n0                   0                10                  1            11.98   \n1                   4                11                  0            18.07   \n2                   0                 8                  5            12.14   \n3                   0                13                  2            20.79   \n4                  17                21                  3             5.06   \n\n   prom_part_3000  office_count_3000  office_sqm_3000  trc_count_3000  \\\n0           13.55                 12           251554              23   \n1           27.32                 12           821986              14   \n2           26.46                  8           110856               7   \n3            3.57                  4           167000              12   \n4            8.62                305          3420907              60   \n\n   trc_sqm_3000  cafe_count_3000 cafe_sum_3000_min_price_avg  \\\n0       1419204               68                      639.68   \n1        491565               30                      631.03   \n2         52550               41                      697.44   \n3        205756               32                      718.75   \n4       2296870             1068                      853.03   \n\n  cafe_sum_3000_max_price_avg cafe_avg_price_3000  cafe_count_3000_na_price  \\\n0                     1079.37              859.52                         5   \n1                     1086.21              858.62                         1   \n2                     1192.31              944.87                         2   \n3                     1218.75              968.75                         0   \n4                     1410.45             1131.74                        63   \n\n   cafe_count_3000_price_500  cafe_count_3000_price_1000  \\\n0                         21                          22   \n1                         11                          11   \n2                          9                          17   \n3                          5                          14   \n4                        266                         267   \n\n   cafe_count_3000_price_1500  cafe_count_3000_price_2500  \\\n0                          16                           3   \n1                           4                           2   \n2                           9                           3   \n3                          10                           3   \n4                         262                         149   \n\n   cafe_count_3000_price_4000  cafe_count_3000_price_high  \\\n0                           1                           0   \n1                           1                           0   \n2                           1                           0   \n3                           0                           0   \n4                          57                           4   \n\n   big_church_count_3000  church_count_3000  mosque_count_3000  \\\n0                      2                  4                  0   \n1                      1                  7                  0   \n2                      0                 11                  0   \n3                      1                  2                  0   \n4                     70                121                  1   \n\n   leisure_count_3000  sport_count_3000  market_count_3000  green_part_5000  \\\n0                   0                21                  1            13.09   \n1                   6                19                  1            10.26   \n2                   0                20                  6            13.69   \n3                   0                18                  3            14.18   \n4                  40                77                  5             8.38   \n\n  prom_part_5000  office_count_5000  office_sqm_5000  trc_count_5000  \\\n0          13.31                 29           807385              52   \n1          27.47                 66          2690465              40   \n2          21.58                 43          1478160              35   \n3           3.89                  8           244166              22   \n4          10.92                689          8404624             114   \n\n   trc_sqm_5000  cafe_count_5000 cafe_sum_5000_min_price_avg  \\\n0       4036616              152                      708.57   \n1       2034942              177                      673.81   \n2       1572990              122                      702.68   \n3        942180               61                      931.58   \n4       3503058             2283                      853.88   \n\n  cafe_sum_5000_max_price_avg cafe_avg_price_5000  cafe_count_5000_na_price  \\\n0                     1185.71              947.14                        12   \n1                     1148.81              911.31                         9   \n2                     1196.43              949.55                        10   \n3                     1552.63             1242.11                         4   \n4                     1411.45             1132.66                       143   \n\n   cafe_count_5000_price_500  cafe_count_5000_price_1000  \\\n0                         39                          48   \n1                         49                          65   \n2                         29                          45   \n3                          7                          21   \n4                        566                         578   \n\n   cafe_count_5000_price_1500  cafe_count_5000_price_2500  \\\n0                          40                           9   \n1                          36                          15   \n2                          25                          10   \n3                          15                          11   \n4                         552                         319   \n\n   cafe_count_5000_price_4000  cafe_count_5000_price_high  \\\n0                           4                           0   \n1                           3                           0   \n2                           3                           0   \n3                           2                           1   \n4                         108                          17   \n\n   big_church_count_5000  church_count_5000  mosque_count_5000  \\\n0                     13                 22                  1   \n1                     15                 29                  1   \n2                     11                 27                  0   \n3                      4                  4                  0   \n4                    135                236                  2   \n\n   leisure_count_5000  sport_count_5000  market_count_5000  price_doc  \n0                   0                52                  4    5850000  \n1                  10                66                 14    6000000  \n2                   4                67                 10    5700000  \n3                   0                26                  3   13100000  \n4                  91               195                 14   16331452  ",
      "text/html": "<div>\n<style scoped>\n    .dataframe tbody tr th:only-of-type {\n        vertical-align: middle;\n    }\n\n    .dataframe tbody tr th {\n        vertical-align: top;\n    }\n\n    .dataframe thead th {\n        text-align: right;\n    }\n</style>\n<table border=\"1\" class=\"dataframe\">\n  <thead>\n    <tr style=\"text-align: right;\">\n      <th></th>\n      <th>id</th>\n      <th>timestamp</th>\n      <th>full_sq</th>\n      <th>life_sq</th>\n      <th>floor</th>\n      <th>max_floor</th>\n      <th>material</th>\n      <th>build_year</th>\n      <th>num_room</th>\n      <th>kitch_sq</th>\n      <th>state</th>\n      <th>product_type</th>\n      <th>sub_area</th>\n      <th>area_m</th>\n      <th>raion_popul</th>\n      <th>green_zone_part</th>\n      <th>indust_part</th>\n      <th>children_preschool</th>\n      <th>preschool_quota</th>\n      <th>preschool_education_centers_raion</th>\n      <th>children_school</th>\n      <th>school_quota</th>\n      <th>school_education_centers_raion</th>\n      <th>school_education_centers_top_20_raion</th>\n      <th>hospital_beds_raion</th>\n      <th>healthcare_centers_raion</th>\n      <th>university_top_20_raion</th>\n      <th>sport_objects_raion</th>\n      <th>additional_education_raion</th>\n      <th>culture_objects_top_25</th>\n      <th>culture_objects_top_25_raion</th>\n      <th>shopping_centers_raion</th>\n      <th>office_raion</th>\n      <th>thermal_power_plant_raion</th>\n      <th>incineration_raion</th>\n      <th>oil_chemistry_raion</th>\n      <th>radiation_raion</th>\n      <th>railroad_terminal_raion</th>\n      <th>big_market_raion</th>\n      <th>nuclear_reactor_raion</th>\n      <th>detention_facility_raion</th>\n      <th>full_all</th>\n      <th>male_f</th>\n      <th>female_f</th>\n      <th>young_all</th>\n      <th>young_male</th>\n      <th>young_female</th>\n      <th>work_all</th>\n      <th>work_male</th>\n      <th>work_female</th>\n      <th>ekder_all</th>\n      <th>ekder_male</th>\n      <th>ekder_female</th>\n      <th>0_6_all</th>\n      <th>0_6_male</th>\n      <th>0_6_female</th>\n      <th>7_14_all</th>\n      <th>7_14_male</th>\n      <th>7_14_female</th>\n      <th>0_17_all</th>\n      <th>0_17_male</th>\n      <th>0_17_female</th>\n      <th>16_29_all</th>\n      <th>16_29_male</th>\n      <th>16_29_female</th>\n      <th>0_13_all</th>\n      <th>0_13_male</th>\n      <th>0_13_female</th>\n      <th>raion_build_count_with_material_info</th>\n      <th>build_count_block</th>\n      <th>build_count_wood</th>\n      <th>build_count_frame</th>\n      <th>build_count_brick</th>\n      <th>build_count_monolith</th>\n      <th>build_count_panel</th>\n      <th>build_count_foam</th>\n      <th>build_count_slag</th>\n      <th>build_count_mix</th>\n      <th>raion_build_count_with_builddate_info</th>\n      <th>build_count_before_1920</th>\n      <th>build_count_1921-1945</th>\n      <th>build_count_1946-1970</th>\n      <th>build_count_1971-1995</th>\n      <th>build_count_after_1995</th>\n      <th>ID_metro</th>\n      <th>metro_min_avto</th>\n      <th>metro_km_avto</th>\n      <th>metro_min_walk</th>\n      <th>metro_km_walk</th>\n      <th>kindergarten_km</th>\n      <th>school_km</th>\n      <th>park_km</th>\n      <th>green_zone_km</th>\n      <th>industrial_km</th>\n      <th>water_treatment_km</th>\n      <th>cemetery_km</th>\n      <th>incineration_km</th>\n      <th>railroad_station_walk_km</th>\n      <th>railroad_station_walk_min</th>\n      <th>ID_railroad_station_walk</th>\n      <th>railroad_station_avto_km</th>\n      <th>railroad_station_avto_min</th>\n      <th>ID_railroad_station_avto</th>\n      <th>public_transport_station_km</th>\n      <th>public_transport_station_min_walk</th>\n      <th>water_km</th>\n      <th>water_1line</th>\n      <th>mkad_km</th>\n      <th>ttk_km</th>\n      <th>sadovoe_km</th>\n      <th>bulvar_ring_km</th>\n      <th>kremlin_km</th>\n      <th>big_road1_km</th>\n      <th>ID_big_road1</th>\n      <th>big_road1_1line</th>\n      <th>big_road2_km</th>\n      <th>ID_big_road2</th>\n      <th>railroad_km</th>\n      <th>railroad_1line</th>\n      <th>zd_vokzaly_avto_km</th>\n      <th>ID_railroad_terminal</th>\n      <th>bus_terminal_avto_km</th>\n      <th>ID_bus_terminal</th>\n      <th>oil_chemistry_km</th>\n      <th>nuclear_reactor_km</th>\n      <th>radiation_km</th>\n      <th>power_transmission_line_km</th>\n      <th>thermal_power_plant_km</th>\n      <th>ts_km</th>\n      <th>big_market_km</th>\n      <th>market_shop_km</th>\n      <th>fitness_km</th>\n      <th>swim_pool_km</th>\n      <th>ice_rink_km</th>\n      <th>stadium_km</th>\n      <th>basketball_km</th>\n      <th>hospice_morgue_km</th>\n      <th>detention_facility_km</th>\n      <th>public_healthcare_km</th>\n      <th>university_km</th>\n      <th>workplaces_km</th>\n      <th>shopping_centers_km</th>\n      <th>office_km</th>\n      <th>additional_education_km</th>\n      <th>preschool_km</th>\n      <th>big_church_km</th>\n      <th>church_synagogue_km</th>\n      <th>mosque_km</th>\n      <th>theater_km</th>\n      <th>museum_km</th>\n      <th>exhibition_km</th>\n      <th>catering_km</th>\n      <th>ecology</th>\n      <th>green_part_500</th>\n      <th>prom_part_500</th>\n      <th>office_count_500</th>\n      <th>office_sqm_500</th>\n      <th>trc_count_500</th>\n      <th>trc_sqm_500</th>\n      <th>cafe_count_500</th>\n      <th>cafe_sum_500_min_price_avg</th>\n      <th>cafe_sum_500_max_price_avg</th>\n      <th>cafe_avg_price_500</th>\n      <th>cafe_count_500_na_price</th>\n      <th>cafe_count_500_price_500</th>\n      <th>cafe_count_500_price_1000</th>\n      <th>cafe_count_500_price_1500</th>\n      <th>cafe_count_500_price_2500</th>\n      <th>cafe_count_500_price_4000</th>\n      <th>cafe_count_500_price_high</th>\n      <th>big_church_count_500</th>\n      <th>church_count_500</th>\n      <th>mosque_count_500</th>\n      <th>leisure_count_500</th>\n      <th>sport_count_500</th>\n      <th>market_count_500</th>\n      <th>green_part_1000</th>\n      <th>prom_part_1000</th>\n      <th>office_count_1000</th>\n      <th>office_sqm_1000</th>\n      <th>trc_count_1000</th>\n      <th>trc_sqm_1000</th>\n      <th>cafe_count_1000</th>\n      <th>cafe_sum_1000_min_price_avg</th>\n      <th>cafe_sum_1000_max_price_avg</th>\n      <th>cafe_avg_price_1000</th>\n      <th>cafe_count_1000_na_price</th>\n      <th>cafe_count_1000_price_500</th>\n      <th>cafe_count_1000_price_1000</th>\n      <th>cafe_count_1000_price_1500</th>\n      <th>cafe_count_1000_price_2500</th>\n      <th>cafe_count_1000_price_4000</th>\n      <th>cafe_count_1000_price_high</th>\n      <th>big_church_count_1000</th>\n      <th>church_count_1000</th>\n      <th>mosque_count_1000</th>\n      <th>leisure_count_1000</th>\n      <th>sport_count_1000</th>\n      <th>market_count_1000</th>\n      <th>green_part_1500</th>\n      <th>prom_part_1500</th>\n      <th>office_count_1500</th>\n      <th>office_sqm_1500</th>\n      <th>trc_count_1500</th>\n      <th>trc_sqm_1500</th>\n      <th>cafe_count_1500</th>\n      <th>cafe_sum_1500_min_price_avg</th>\n      <th>cafe_sum_1500_max_price_avg</th>\n      <th>cafe_avg_price_1500</th>\n      <th>cafe_count_1500_na_price</th>\n      <th>cafe_count_1500_price_500</th>\n      <th>cafe_count_1500_price_1000</th>\n      <th>cafe_count_1500_price_1500</th>\n      <th>cafe_count_1500_price_2500</th>\n      <th>cafe_count_1500_price_4000</th>\n      <th>cafe_count_1500_price_high</th>\n      <th>big_church_count_1500</th>\n      <th>church_count_1500</th>\n      <th>mosque_count_1500</th>\n      <th>leisure_count_1500</th>\n      <th>sport_count_1500</th>\n      <th>market_count_1500</th>\n      <th>green_part_2000</th>\n      <th>prom_part_2000</th>\n      <th>office_count_2000</th>\n      <th>office_sqm_2000</th>\n      <th>trc_count_2000</th>\n      <th>trc_sqm_2000</th>\n      <th>cafe_count_2000</th>\n      <th>cafe_sum_2000_min_price_avg</th>\n      <th>cafe_sum_2000_max_price_avg</th>\n      <th>cafe_avg_price_2000</th>\n      <th>cafe_count_2000_na_price</th>\n      <th>cafe_count_2000_price_500</th>\n      <th>cafe_count_2000_price_1000</th>\n      <th>cafe_count_2000_price_1500</th>\n      <th>cafe_count_2000_price_2500</th>\n      <th>cafe_count_2000_price_4000</th>\n      <th>cafe_count_2000_price_high</th>\n      <th>big_church_count_2000</th>\n      <th>church_count_2000</th>\n      <th>mosque_count_2000</th>\n      <th>leisure_count_2000</th>\n      <th>sport_count_2000</th>\n      <th>market_count_2000</th>\n      <th>green_part_3000</th>\n      <th>prom_part_3000</th>\n      <th>office_count_3000</th>\n      <th>office_sqm_3000</th>\n      <th>trc_count_3000</th>\n      <th>trc_sqm_3000</th>\n      <th>cafe_count_3000</th>\n      <th>cafe_sum_3000_min_price_avg</th>\n      <th>cafe_sum_3000_max_price_avg</th>\n      <th>cafe_avg_price_3000</th>\n      <th>cafe_count_3000_na_price</th>\n      <th>cafe_count_3000_price_500</th>\n      <th>cafe_count_3000_price_1000</th>\n      <th>cafe_count_3000_price_1500</th>\n      <th>cafe_count_3000_price_2500</th>\n      <th>cafe_count_3000_price_4000</th>\n      <th>cafe_count_3000_price_high</th>\n      <th>big_church_count_3000</th>\n      <th>church_count_3000</th>\n      <th>mosque_count_3000</th>\n      <th>leisure_count_3000</th>\n      <th>sport_count_3000</th>\n      <th>market_count_3000</th>\n      <th>green_part_5000</th>\n      <th>prom_part_5000</th>\n      <th>office_count_5000</th>\n      <th>office_sqm_5000</th>\n      <th>trc_count_5000</th>\n      <th>trc_sqm_5000</th>\n      <th>cafe_count_5000</th>\n      <th>cafe_sum_5000_min_price_avg</th>\n      <th>cafe_sum_5000_max_price_avg</th>\n      <th>cafe_avg_price_5000</th>\n      <th>cafe_count_5000_na_price</th>\n      <th>cafe_count_5000_price_500</th>\n      <th>cafe_count_5000_price_1000</th>\n      <th>cafe_count_5000_price_1500</th>\n      <th>cafe_count_5000_price_2500</th>\n      <th>cafe_count_5000_price_4000</th>\n      <th>cafe_count_5000_price_high</th>\n      <th>big_church_count_5000</th>\n      <th>church_count_5000</th>\n      <th>mosque_count_5000</th>\n      <th>leisure_count_5000</th>\n      <th>sport_count_5000</th>\n      <th>market_count_5000</th>\n      <th>price_doc</th>\n    </tr>\n  </thead>\n  <tbody>\n    <tr>\n      <th>0</th>\n      <td>1</td>\n      <td>2011-08-20</td>\n      <td>43</td>\n      <td>27</td>\n      <td>4</td>\n      <td>NA</td>\n      <td>NA</td>\n      <td>NA</td>\n      <td>NA</td>\n      <td>NA</td>\n      <td>NA</td>\n      <td>Investment</td>\n      <td>Bibirevo</td>\n      <td>6.407578e+06</td>\n      <td>155572</td>\n      <td>0.189727</td>\n      <td>0.000070</td>\n      <td>9576</td>\n      <td>5001</td>\n      <td>5</td>\n      <td>10309</td>\n      <td>11065</td>\n      <td>5</td>\n      <td>0</td>\n      <td>240</td>\n      <td>1</td>\n      <td>0</td>\n      <td>7</td>\n      <td>3</td>\n      <td>no</td>\n      <td>0</td>\n      <td>16</td>\n      <td>1</td>\n      <td>no</td>\n      <td>no</td>\n      <td>no</td>\n      <td>no</td>\n      <td>no</td>\n      <td>no</td>\n      <td>no</td>\n      <td>no</td>\n      <td>86206</td>\n      <td>40477</td>\n      <td>45729</td>\n      <td>21154</td>\n      <td>11007</td>\n      <td>10147</td>\n      <td>98207</td>\n      <td>52277</td>\n      <td>45930</td>\n      <td>36211</td>\n      <td>10580</td>\n      <td>25631</td>\n      <td>9576</td>\n      <td>4899</td>\n      <td>4677</td>\n      <td>10309</td>\n      <td>5463</td>\n      <td>4846</td>\n      <td>23603</td>\n      <td>12286</td>\n      <td>11317</td>\n      <td>17508</td>\n      <td>9425</td>\n      <td>8083</td>\n      <td>18654</td>\n      <td>9709</td>\n      <td>8945</td>\n      <td>211</td>\n      <td>25</td>\n      <td>0</td>\n      <td>0</td>\n      <td>0</td>\n      <td>2</td>\n      <td>184</td>\n      <td>0</td>\n      <td>0</td>\n      <td>0</td>\n      <td>211</td>\n      <td>0</td>\n      <td>0</td>\n      <td>0</td>\n      <td>206</td>\n      <td>5</td>\n      <td>1</td>\n      <td>2.590241</td>\n      <td>1.131260</td>\n      <td>13.57511887</td>\n      <td>1.131259906</td>\n      <td>0.145700</td>\n      <td>0.177975</td>\n      <td>2.158587</td>\n      <td>0.600973</td>\n      <td>1.080934</td>\n      <td>23.683460</td>\n      <td>1.804127</td>\n      <td>3.633334</td>\n      <td>5.419893032</td>\n      <td>65.03871639</td>\n      <td>1</td>\n      <td>5.419893</td>\n      <td>6.905893</td>\n      <td>1</td>\n      <td>0.274985</td>\n      <td>3.299822</td>\n      <td>0.992631</td>\n      <td>no</td>\n      <td>1.422391</td>\n      <td>10.918587</td>\n      <td>13.100618</td>\n      <td>13.675657</td>\n      <td>15.156211</td>\n      <td>1.422391</td>\n      <td>1</td>\n      <td>no</td>\n      <td>3.830951</td>\n      <td>5</td>\n      <td>1.305159</td>\n      <td>no</td>\n      <td>14.231961</td>\n      <td>101</td>\n      <td>24.292406</td>\n      <td>1</td>\n      <td>18.152338</td>\n      <td>5.718519</td>\n      <td>1.210027</td>\n      <td>1.062513</td>\n      <td>5.814135</td>\n      <td>4.308127</td>\n      <td>10.814172</td>\n      <td>1.676258</td>\n      <td>0.485841</td>\n      <td>3.065047</td>\n      <td>1.107594</td>\n      <td>8.148591</td>\n      <td>3.516513</td>\n      <td>2.392353</td>\n      <td>4.248036</td>\n      <td>0.974743</td>\n      <td>6.715026</td>\n      <td>0.884350</td>\n      <td>0.648488</td>\n      <td>0.637189</td>\n      <td>0.947962</td>\n      <td>0.177975</td>\n      <td>0.625783</td>\n      <td>0.628187</td>\n      <td>3.932040</td>\n      <td>14.053047</td>\n      <td>7.389498</td>\n      <td>7.023705</td>\n      <td>0.516838</td>\n      <td>good</td>\n      <td>0.00</td>\n      <td>0.00</td>\n      <td>0</td>\n      <td>0</td>\n      <td>0</td>\n      <td>0</td>\n      <td>0</td>\n      <td>NA</td>\n      <td>NA</td>\n      <td>NA</td>\n      <td>0</td>\n      <td>0</td>\n      <td>0</td>\n      <td>0</td>\n      <td>0</td>\n      <td>0</td>\n      <td>0</td>\n      <td>0</td>\n      <td>0</td>\n      <td>0</td>\n      <td>0</td>\n      <td>1</td>\n      <td>0</td>\n      <td>7.36</td>\n      <td>0.00</td>\n      <td>1</td>\n      <td>30500</td>\n      <td>3</td>\n      <td>55600</td>\n      <td>19</td>\n      <td>527.78</td>\n      <td>888.89</td>\n      <td>708.33</td>\n      <td>1</td>\n      <td>10</td>\n      <td>4</td>\n      <td>3</td>\n      <td>1</td>\n      <td>0</td>\n      <td>0</td>\n      <td>1</td>\n      <td>2</td>\n      <td>0</td>\n      <td>0</td>\n      <td>6</td>\n      <td>1</td>\n      <td>14.27</td>\n      <td>6.92</td>\n      <td>3</td>\n      <td>39554</td>\n      <td>9</td>\n      <td>171420</td>\n      <td>34</td>\n      <td>566.67</td>\n      <td>969.7</td>\n      <td>768.18</td>\n      <td>1</td>\n      <td>14</td>\n      <td>11</td>\n      <td>6</td>\n      <td>2</td>\n      <td>0</td>\n      <td>0</td>\n      <td>1</td>\n      <td>2</td>\n      <td>0</td>\n      <td>0</td>\n      <td>7</td>\n      <td>1</td>\n      <td>11.77</td>\n      <td>15.97</td>\n      <td>9</td>\n      <td>188854</td>\n      <td>19</td>\n      <td>1244891</td>\n      <td>36</td>\n      <td>614.29</td>\n      <td>1042.86</td>\n      <td>828.57</td>\n      <td>1</td>\n      <td>15</td>\n      <td>11</td>\n      <td>6</td>\n      <td>2</td>\n      <td>1</td>\n      <td>0</td>\n      <td>1</td>\n      <td>2</td>\n      <td>0</td>\n      <td>0</td>\n      <td>10</td>\n      <td>1</td>\n      <td>11.98</td>\n      <td>13.55</td>\n      <td>12</td>\n      <td>251554</td>\n      <td>23</td>\n      <td>1419204</td>\n      <td>68</td>\n      <td>639.68</td>\n      <td>1079.37</td>\n      <td>859.52</td>\n      <td>5</td>\n      <td>21</td>\n      <td>22</td>\n      <td>16</td>\n      <td>3</td>\n      <td>1</td>\n      <td>0</td>\n      <td>2</td>\n      <td>4</td>\n      <td>0</td>\n      <td>0</td>\n      <td>21</td>\n      <td>1</td>\n      <td>13.09</td>\n      <td>13.31</td>\n      <td>29</td>\n      <td>807385</td>\n      <td>52</td>\n      <td>4036616</td>\n      <td>152</td>\n      <td>708.57</td>\n      <td>1185.71</td>\n      <td>947.14</td>\n      <td>12</td>\n      <td>39</td>\n      <td>48</td>\n      <td>40</td>\n      <td>9</td>\n      <td>4</td>\n      <td>0</td>\n      <td>13</td>\n      <td>22</td>\n      <td>1</td>\n      <td>0</td>\n      <td>52</td>\n      <td>4</td>\n      <td>5850000</td>\n    </tr>\n    <tr>\n      <th>1</th>\n      <td>2</td>\n      <td>2011-08-23</td>\n      <td>34</td>\n      <td>19</td>\n      <td>3</td>\n      <td>NA</td>\n      <td>NA</td>\n      <td>NA</td>\n      <td>NA</td>\n      <td>NA</td>\n      <td>NA</td>\n      <td>Investment</td>\n      <td>Nagatinskij Zaton</td>\n      <td>9.589337e+06</td>\n      <td>115352</td>\n      <td>0.372602</td>\n      <td>0.049637</td>\n      <td>6880</td>\n      <td>3119</td>\n      <td>5</td>\n      <td>7759</td>\n      <td>6237</td>\n      <td>8</td>\n      <td>0</td>\n      <td>229</td>\n      <td>1</td>\n      <td>0</td>\n      <td>6</td>\n      <td>1</td>\n      <td>yes</td>\n      <td>1</td>\n      <td>3</td>\n      <td>0</td>\n      <td>no</td>\n      <td>no</td>\n      <td>no</td>\n      <td>no</td>\n      <td>no</td>\n      <td>no</td>\n      <td>no</td>\n      <td>no</td>\n      <td>76284</td>\n      <td>34200</td>\n      <td>42084</td>\n      <td>15727</td>\n      <td>7925</td>\n      <td>7802</td>\n      <td>70194</td>\n      <td>35622</td>\n      <td>34572</td>\n      <td>29431</td>\n      <td>9266</td>\n      <td>20165</td>\n      <td>6880</td>\n      <td>3466</td>\n      <td>3414</td>\n      <td>7759</td>\n      <td>3909</td>\n      <td>3850</td>\n      <td>17700</td>\n      <td>8998</td>\n      <td>8702</td>\n      <td>15164</td>\n      <td>7571</td>\n      <td>7593</td>\n      <td>13729</td>\n      <td>6929</td>\n      <td>6800</td>\n      <td>245</td>\n      <td>83</td>\n      <td>1</td>\n      <td>0</td>\n      <td>67</td>\n      <td>4</td>\n      <td>90</td>\n      <td>0</td>\n      <td>0</td>\n      <td>0</td>\n      <td>244</td>\n      <td>1</td>\n      <td>1</td>\n      <td>143</td>\n      <td>84</td>\n      <td>15</td>\n      <td>2</td>\n      <td>0.936700</td>\n      <td>0.647337</td>\n      <td>7.620630408</td>\n      <td>0.635052534</td>\n      <td>0.147754</td>\n      <td>0.273345</td>\n      <td>0.550690</td>\n      <td>0.065321</td>\n      <td>0.966479</td>\n      <td>1.317476</td>\n      <td>4.655004</td>\n      <td>8.648587</td>\n      <td>3.411993084</td>\n      <td>40.943917</td>\n      <td>2</td>\n      <td>3.641773</td>\n      <td>4.679745</td>\n      <td>2</td>\n      <td>0.065263</td>\n      <td>0.783160</td>\n      <td>0.698081</td>\n      <td>no</td>\n      <td>9.503405</td>\n      <td>3.103996</td>\n      <td>6.444333</td>\n      <td>8.132640</td>\n      <td>8.698054</td>\n      <td>2.887377</td>\n      <td>2</td>\n      <td>no</td>\n      <td>3.103996</td>\n      <td>4</td>\n      <td>0.694536</td>\n      <td>no</td>\n      <td>9.242586</td>\n      <td>32</td>\n      <td>5.706113</td>\n      <td>2</td>\n      <td>9.034642</td>\n      <td>3.489954</td>\n      <td>2.724295</td>\n      <td>1.246149</td>\n      <td>3.419574</td>\n      <td>0.725560</td>\n      <td>6.910568</td>\n      <td>3.424716</td>\n      <td>0.668364</td>\n      <td>2.000154</td>\n      <td>8.972823</td>\n      <td>6.127073</td>\n      <td>1.161579</td>\n      <td>2.543747</td>\n      <td>12.649879</td>\n      <td>1.477723</td>\n      <td>1.852560</td>\n      <td>0.686252</td>\n      <td>0.519311</td>\n      <td>0.688796</td>\n      <td>1.072315</td>\n      <td>0.273345</td>\n      <td>0.967821</td>\n      <td>0.471447</td>\n      <td>4.841544</td>\n      <td>6.829889</td>\n      <td>0.709260</td>\n      <td>2.358840</td>\n      <td>0.230287</td>\n      <td>excellent</td>\n      <td>25.14</td>\n      <td>0.00</td>\n      <td>0</td>\n      <td>0</td>\n      <td>0</td>\n      <td>0</td>\n      <td>5</td>\n      <td>860</td>\n      <td>1500</td>\n      <td>1180</td>\n      <td>0</td>\n      <td>1</td>\n      <td>3</td>\n      <td>0</td>\n      <td>0</td>\n      <td>1</td>\n      <td>0</td>\n      <td>0</td>\n      <td>1</td>\n      <td>0</td>\n      <td>0</td>\n      <td>0</td>\n      <td>0</td>\n      <td>26.66</td>\n      <td>0.07</td>\n      <td>2</td>\n      <td>86600</td>\n      <td>5</td>\n      <td>94065</td>\n      <td>13</td>\n      <td>615.38</td>\n      <td>1076.92</td>\n      <td>846.15</td>\n      <td>0</td>\n      <td>5</td>\n      <td>6</td>\n      <td>1</td>\n      <td>0</td>\n      <td>1</td>\n      <td>0</td>\n      <td>1</td>\n      <td>2</td>\n      <td>0</td>\n      <td>4</td>\n      <td>2</td>\n      <td>0</td>\n      <td>21.53</td>\n      <td>7.71</td>\n      <td>3</td>\n      <td>102910</td>\n      <td>7</td>\n      <td>127065</td>\n      <td>17</td>\n      <td>694.12</td>\n      <td>1205.88</td>\n      <td>950</td>\n      <td>0</td>\n      <td>6</td>\n      <td>7</td>\n      <td>1</td>\n      <td>2</td>\n      <td>1</td>\n      <td>0</td>\n      <td>1</td>\n      <td>5</td>\n      <td>0</td>\n      <td>4</td>\n      <td>9</td>\n      <td>0</td>\n      <td>22.37</td>\n      <td>19.25</td>\n      <td>4</td>\n      <td>165510</td>\n      <td>8</td>\n      <td>179065</td>\n      <td>21</td>\n      <td>695.24</td>\n      <td>1190.48</td>\n      <td>942.86</td>\n      <td>0</td>\n      <td>7</td>\n      <td>8</td>\n      <td>3</td>\n      <td>2</td>\n      <td>1</td>\n      <td>0</td>\n      <td>1</td>\n      <td>5</td>\n      <td>0</td>\n      <td>4</td>\n      <td>11</td>\n      <td>0</td>\n      <td>18.07</td>\n      <td>27.32</td>\n      <td>12</td>\n      <td>821986</td>\n      <td>14</td>\n      <td>491565</td>\n      <td>30</td>\n      <td>631.03</td>\n      <td>1086.21</td>\n      <td>858.62</td>\n      <td>1</td>\n      <td>11</td>\n      <td>11</td>\n      <td>4</td>\n      <td>2</td>\n      <td>1</td>\n      <td>0</td>\n      <td>1</td>\n      <td>7</td>\n      <td>0</td>\n      <td>6</td>\n      <td>19</td>\n      <td>1</td>\n      <td>10.26</td>\n      <td>27.47</td>\n      <td>66</td>\n      <td>2690465</td>\n      <td>40</td>\n      <td>2034942</td>\n      <td>177</td>\n      <td>673.81</td>\n      <td>1148.81</td>\n      <td>911.31</td>\n      <td>9</td>\n      <td>49</td>\n      <td>65</td>\n      <td>36</td>\n      <td>15</td>\n      <td>3</td>\n      <td>0</td>\n      <td>15</td>\n      <td>29</td>\n      <td>1</td>\n      <td>10</td>\n      <td>66</td>\n      <td>14</td>\n      <td>6000000</td>\n    </tr>\n    <tr>\n      <th>2</th>\n      <td>3</td>\n      <td>2011-08-27</td>\n      <td>43</td>\n      <td>29</td>\n      <td>2</td>\n      <td>NA</td>\n      <td>NA</td>\n      <td>NA</td>\n      <td>NA</td>\n      <td>NA</td>\n      <td>NA</td>\n      <td>Investment</td>\n      <td>Tekstil'shhiki</td>\n      <td>4.808270e+06</td>\n      <td>101708</td>\n      <td>0.112560</td>\n      <td>0.118537</td>\n      <td>5879</td>\n      <td>1463</td>\n      <td>4</td>\n      <td>6207</td>\n      <td>5580</td>\n      <td>7</td>\n      <td>0</td>\n      <td>1183</td>\n      <td>1</td>\n      <td>0</td>\n      <td>5</td>\n      <td>1</td>\n      <td>no</td>\n      <td>0</td>\n      <td>0</td>\n      <td>1</td>\n      <td>no</td>\n      <td>no</td>\n      <td>no</td>\n      <td>yes</td>\n      <td>no</td>\n      <td>no</td>\n      <td>no</td>\n      <td>no</td>\n      <td>101982</td>\n      <td>46076</td>\n      <td>55906</td>\n      <td>13028</td>\n      <td>6835</td>\n      <td>6193</td>\n      <td>63388</td>\n      <td>31813</td>\n      <td>31575</td>\n      <td>25292</td>\n      <td>7609</td>\n      <td>17683</td>\n      <td>5879</td>\n      <td>3095</td>\n      <td>2784</td>\n      <td>6207</td>\n      <td>3269</td>\n      <td>2938</td>\n      <td>14884</td>\n      <td>7821</td>\n      <td>7063</td>\n      <td>19401</td>\n      <td>9045</td>\n      <td>10356</td>\n      <td>11252</td>\n      <td>5916</td>\n      <td>5336</td>\n      <td>330</td>\n      <td>59</td>\n      <td>0</td>\n      <td>0</td>\n      <td>206</td>\n      <td>4</td>\n      <td>60</td>\n      <td>0</td>\n      <td>1</td>\n      <td>0</td>\n      <td>330</td>\n      <td>1</td>\n      <td>0</td>\n      <td>246</td>\n      <td>63</td>\n      <td>20</td>\n      <td>3</td>\n      <td>2.120999</td>\n      <td>1.637996</td>\n      <td>17.3515154</td>\n      <td>1.445959617</td>\n      <td>0.049102</td>\n      <td>0.158072</td>\n      <td>0.374848</td>\n      <td>0.453172</td>\n      <td>0.939275</td>\n      <td>4.912660</td>\n      <td>3.381083</td>\n      <td>11.996480</td>\n      <td>1.277658039</td>\n      <td>15.33189647</td>\n      <td>3</td>\n      <td>1.277658</td>\n      <td>1.701420</td>\n      <td>3</td>\n      <td>0.328756</td>\n      <td>3.945073</td>\n      <td>0.468265</td>\n      <td>no</td>\n      <td>5.604800</td>\n      <td>2.927487</td>\n      <td>6.963403</td>\n      <td>8.054252</td>\n      <td>9.067885</td>\n      <td>0.647250</td>\n      <td>3</td>\n      <td>no</td>\n      <td>2.927487</td>\n      <td>4</td>\n      <td>0.700691</td>\n      <td>no</td>\n      <td>9.540544</td>\n      <td>5</td>\n      <td>6.710302</td>\n      <td>3</td>\n      <td>5.777394</td>\n      <td>7.506612</td>\n      <td>0.772216</td>\n      <td>1.602183</td>\n      <td>3.682455</td>\n      <td>3.562188</td>\n      <td>5.752368</td>\n      <td>1.375443</td>\n      <td>0.733101</td>\n      <td>1.239304</td>\n      <td>1.978517</td>\n      <td>0.767569</td>\n      <td>1.952771</td>\n      <td>0.621357</td>\n      <td>7.682303</td>\n      <td>0.097144</td>\n      <td>0.841254</td>\n      <td>1.510089</td>\n      <td>1.486533</td>\n      <td>1.543049</td>\n      <td>0.391957</td>\n      <td>0.158072</td>\n      <td>3.178751</td>\n      <td>0.755946</td>\n      <td>7.922152</td>\n      <td>4.273200</td>\n      <td>3.156423</td>\n      <td>4.958214</td>\n      <td>0.190462</td>\n      <td>poor</td>\n      <td>1.67</td>\n      <td>0.00</td>\n      <td>0</td>\n      <td>0</td>\n      <td>0</td>\n      <td>0</td>\n      <td>3</td>\n      <td>666.67</td>\n      <td>1166.67</td>\n      <td>916.67</td>\n      <td>0</td>\n      <td>0</td>\n      <td>2</td>\n      <td>1</td>\n      <td>0</td>\n      <td>0</td>\n      <td>0</td>\n      <td>0</td>\n      <td>0</td>\n      <td>0</td>\n      <td>0</td>\n      <td>0</td>\n      <td>0</td>\n      <td>4.99</td>\n      <td>0.29</td>\n      <td>0</td>\n      <td>0</td>\n      <td>0</td>\n      <td>0</td>\n      <td>9</td>\n      <td>642.86</td>\n      <td>1142.86</td>\n      <td>892.86</td>\n      <td>2</td>\n      <td>0</td>\n      <td>5</td>\n      <td>2</td>\n      <td>0</td>\n      <td>0</td>\n      <td>0</td>\n      <td>0</td>\n      <td>1</td>\n      <td>0</td>\n      <td>0</td>\n      <td>5</td>\n      <td>3</td>\n      <td>9.92</td>\n      <td>6.73</td>\n      <td>0</td>\n      <td>0</td>\n      <td>1</td>\n      <td>2600</td>\n      <td>14</td>\n      <td>516.67</td>\n      <td>916.67</td>\n      <td>716.67</td>\n      <td>2</td>\n      <td>4</td>\n      <td>6</td>\n      <td>2</td>\n      <td>0</td>\n      <td>0</td>\n      <td>0</td>\n      <td>0</td>\n      <td>4</td>\n      <td>0</td>\n      <td>0</td>\n      <td>6</td>\n      <td>5</td>\n      <td>12.99</td>\n      <td>12.75</td>\n      <td>4</td>\n      <td>100200</td>\n      <td>7</td>\n      <td>52550</td>\n      <td>24</td>\n      <td>563.64</td>\n      <td>977.27</td>\n      <td>770.45</td>\n      <td>2</td>\n      <td>8</td>\n      <td>9</td>\n      <td>4</td>\n      <td>1</td>\n      <td>0</td>\n      <td>0</td>\n      <td>0</td>\n      <td>4</td>\n      <td>0</td>\n      <td>0</td>\n      <td>8</td>\n      <td>5</td>\n      <td>12.14</td>\n      <td>26.46</td>\n      <td>8</td>\n      <td>110856</td>\n      <td>7</td>\n      <td>52550</td>\n      <td>41</td>\n      <td>697.44</td>\n      <td>1192.31</td>\n      <td>944.87</td>\n      <td>2</td>\n      <td>9</td>\n      <td>17</td>\n      <td>9</td>\n      <td>3</td>\n      <td>1</td>\n      <td>0</td>\n      <td>0</td>\n      <td>11</td>\n      <td>0</td>\n      <td>0</td>\n      <td>20</td>\n      <td>6</td>\n      <td>13.69</td>\n      <td>21.58</td>\n      <td>43</td>\n      <td>1478160</td>\n      <td>35</td>\n      <td>1572990</td>\n      <td>122</td>\n      <td>702.68</td>\n      <td>1196.43</td>\n      <td>949.55</td>\n      <td>10</td>\n      <td>29</td>\n      <td>45</td>\n      <td>25</td>\n      <td>10</td>\n      <td>3</td>\n      <td>0</td>\n      <td>11</td>\n      <td>27</td>\n      <td>0</td>\n      <td>4</td>\n      <td>67</td>\n      <td>10</td>\n      <td>5700000</td>\n    </tr>\n    <tr>\n      <th>3</th>\n      <td>4</td>\n      <td>2011-09-01</td>\n      <td>89</td>\n      <td>50</td>\n      <td>9</td>\n      <td>NA</td>\n      <td>NA</td>\n      <td>NA</td>\n      <td>NA</td>\n      <td>NA</td>\n      <td>NA</td>\n      <td>Investment</td>\n      <td>Mitino</td>\n      <td>1.258354e+07</td>\n      <td>178473</td>\n      <td>0.194703</td>\n      <td>0.069753</td>\n      <td>13087</td>\n      <td>6839</td>\n      <td>9</td>\n      <td>13670</td>\n      <td>17063</td>\n      <td>10</td>\n      <td>0</td>\n      <td>NA</td>\n      <td>1</td>\n      <td>0</td>\n      <td>17</td>\n      <td>6</td>\n      <td>no</td>\n      <td>0</td>\n      <td>11</td>\n      <td>4</td>\n      <td>no</td>\n      <td>no</td>\n      <td>no</td>\n      <td>no</td>\n      <td>no</td>\n      <td>no</td>\n      <td>no</td>\n      <td>no</td>\n      <td>21155</td>\n      <td>9828</td>\n      <td>11327</td>\n      <td>28563</td>\n      <td>14680</td>\n      <td>13883</td>\n      <td>120381</td>\n      <td>60040</td>\n      <td>60341</td>\n      <td>29529</td>\n      <td>9083</td>\n      <td>20446</td>\n      <td>13087</td>\n      <td>6645</td>\n      <td>6442</td>\n      <td>13670</td>\n      <td>7126</td>\n      <td>6544</td>\n      <td>32063</td>\n      <td>16513</td>\n      <td>15550</td>\n      <td>3292</td>\n      <td>1450</td>\n      <td>1842</td>\n      <td>24934</td>\n      <td>12782</td>\n      <td>12152</td>\n      <td>458</td>\n      <td>9</td>\n      <td>51</td>\n      <td>12</td>\n      <td>124</td>\n      <td>50</td>\n      <td>201</td>\n      <td>0</td>\n      <td>9</td>\n      <td>2</td>\n      <td>459</td>\n      <td>13</td>\n      <td>24</td>\n      <td>40</td>\n      <td>130</td>\n      <td>252</td>\n      <td>4</td>\n      <td>1.489049</td>\n      <td>0.984537</td>\n      <td>11.56562408</td>\n      <td>0.963802007</td>\n      <td>0.179441</td>\n      <td>0.236455</td>\n      <td>0.078090</td>\n      <td>0.106125</td>\n      <td>0.451173</td>\n      <td>15.623710</td>\n      <td>2.017080</td>\n      <td>14.317640</td>\n      <td>4.2914325</td>\n      <td>51.49719001</td>\n      <td>4</td>\n      <td>3.816045</td>\n      <td>5.271136</td>\n      <td>4</td>\n      <td>0.131597</td>\n      <td>1.579164</td>\n      <td>1.200336</td>\n      <td>no</td>\n      <td>2.677824</td>\n      <td>14.606501</td>\n      <td>17.457198</td>\n      <td>18.309433</td>\n      <td>19.487005</td>\n      <td>2.677824</td>\n      <td>1</td>\n      <td>no</td>\n      <td>2.780449</td>\n      <td>17</td>\n      <td>1.999265</td>\n      <td>no</td>\n      <td>17.478380</td>\n      <td>83</td>\n      <td>6.734618</td>\n      <td>1</td>\n      <td>27.667863</td>\n      <td>9.522538</td>\n      <td>6.348716</td>\n      <td>1.767612</td>\n      <td>11.178333</td>\n      <td>0.583025</td>\n      <td>27.892717</td>\n      <td>0.811275</td>\n      <td>0.623484</td>\n      <td>1.950317</td>\n      <td>6.483172</td>\n      <td>7.385521</td>\n      <td>4.923843</td>\n      <td>3.549558</td>\n      <td>8.789894</td>\n      <td>2.163735</td>\n      <td>10.903161</td>\n      <td>0.622272</td>\n      <td>0.599914</td>\n      <td>0.934273</td>\n      <td>0.892674</td>\n      <td>0.236455</td>\n      <td>1.031777</td>\n      <td>1.561505</td>\n      <td>15.300449</td>\n      <td>16.990677</td>\n      <td>16.041521</td>\n      <td>5.029696</td>\n      <td>0.465820</td>\n      <td>good</td>\n      <td>17.36</td>\n      <td>0.57</td>\n      <td>0</td>\n      <td>0</td>\n      <td>0</td>\n      <td>0</td>\n      <td>2</td>\n      <td>1e3</td>\n      <td>1500</td>\n      <td>1250</td>\n      <td>0</td>\n      <td>0</td>\n      <td>0</td>\n      <td>2</td>\n      <td>0</td>\n      <td>0</td>\n      <td>0</td>\n      <td>0</td>\n      <td>0</td>\n      <td>0</td>\n      <td>0</td>\n      <td>0</td>\n      <td>0</td>\n      <td>19.25</td>\n      <td>10.35</td>\n      <td>1</td>\n      <td>11000</td>\n      <td>6</td>\n      <td>80780</td>\n      <td>12</td>\n      <td>658.33</td>\n      <td>1083.33</td>\n      <td>870.83</td>\n      <td>0</td>\n      <td>3</td>\n      <td>4</td>\n      <td>5</td>\n      <td>0</td>\n      <td>0</td>\n      <td>0</td>\n      <td>0</td>\n      <td>0</td>\n      <td>0</td>\n      <td>0</td>\n      <td>3</td>\n      <td>1</td>\n      <td>28.38</td>\n      <td>6.57</td>\n      <td>2</td>\n      <td>11000</td>\n      <td>7</td>\n      <td>89492</td>\n      <td>23</td>\n      <td>673.91</td>\n      <td>1130.43</td>\n      <td>902.17</td>\n      <td>0</td>\n      <td>5</td>\n      <td>9</td>\n      <td>8</td>\n      <td>1</td>\n      <td>0</td>\n      <td>0</td>\n      <td>1</td>\n      <td>0</td>\n      <td>0</td>\n      <td>0</td>\n      <td>9</td>\n      <td>2</td>\n      <td>32.29</td>\n      <td>5.73</td>\n      <td>2</td>\n      <td>11000</td>\n      <td>7</td>\n      <td>89492</td>\n      <td>25</td>\n      <td>660</td>\n      <td>1120</td>\n      <td>890</td>\n      <td>0</td>\n      <td>5</td>\n      <td>11</td>\n      <td>8</td>\n      <td>1</td>\n      <td>0</td>\n      <td>0</td>\n      <td>1</td>\n      <td>1</td>\n      <td>0</td>\n      <td>0</td>\n      <td>13</td>\n      <td>2</td>\n      <td>20.79</td>\n      <td>3.57</td>\n      <td>4</td>\n      <td>167000</td>\n      <td>12</td>\n      <td>205756</td>\n      <td>32</td>\n      <td>718.75</td>\n      <td>1218.75</td>\n      <td>968.75</td>\n      <td>0</td>\n      <td>5</td>\n      <td>14</td>\n      <td>10</td>\n      <td>3</td>\n      <td>0</td>\n      <td>0</td>\n      <td>1</td>\n      <td>2</td>\n      <td>0</td>\n      <td>0</td>\n      <td>18</td>\n      <td>3</td>\n      <td>14.18</td>\n      <td>3.89</td>\n      <td>8</td>\n      <td>244166</td>\n      <td>22</td>\n      <td>942180</td>\n      <td>61</td>\n      <td>931.58</td>\n      <td>1552.63</td>\n      <td>1242.11</td>\n      <td>4</td>\n      <td>7</td>\n      <td>21</td>\n      <td>15</td>\n      <td>11</td>\n      <td>2</td>\n      <td>1</td>\n      <td>4</td>\n      <td>4</td>\n      <td>0</td>\n      <td>0</td>\n      <td>26</td>\n      <td>3</td>\n      <td>13100000</td>\n    </tr>\n    <tr>\n      <th>4</th>\n      <td>5</td>\n      <td>2011-09-05</td>\n      <td>77</td>\n      <td>77</td>\n      <td>4</td>\n      <td>NA</td>\n      <td>NA</td>\n      <td>NA</td>\n      <td>NA</td>\n      <td>NA</td>\n      <td>NA</td>\n      <td>Investment</td>\n      <td>Basmannoe</td>\n      <td>8.398461e+06</td>\n      <td>108171</td>\n      <td>0.015234</td>\n      <td>0.037316</td>\n      <td>5706</td>\n      <td>3240</td>\n      <td>7</td>\n      <td>6748</td>\n      <td>7770</td>\n      <td>9</td>\n      <td>0</td>\n      <td>562</td>\n      <td>4</td>\n      <td>2</td>\n      <td>25</td>\n      <td>2</td>\n      <td>no</td>\n      <td>0</td>\n      <td>10</td>\n      <td>93</td>\n      <td>no</td>\n      <td>no</td>\n      <td>no</td>\n      <td>yes</td>\n      <td>yes</td>\n      <td>no</td>\n      <td>no</td>\n      <td>no</td>\n      <td>28179</td>\n      <td>13522</td>\n      <td>14657</td>\n      <td>13368</td>\n      <td>7159</td>\n      <td>6209</td>\n      <td>68043</td>\n      <td>34236</td>\n      <td>33807</td>\n      <td>26760</td>\n      <td>8563</td>\n      <td>18197</td>\n      <td>5706</td>\n      <td>2982</td>\n      <td>2724</td>\n      <td>6748</td>\n      <td>3664</td>\n      <td>3084</td>\n      <td>15237</td>\n      <td>8113</td>\n      <td>7124</td>\n      <td>5164</td>\n      <td>2583</td>\n      <td>2581</td>\n      <td>11631</td>\n      <td>6223</td>\n      <td>5408</td>\n      <td>746</td>\n      <td>48</td>\n      <td>0</td>\n      <td>0</td>\n      <td>643</td>\n      <td>16</td>\n      <td>35</td>\n      <td>0</td>\n      <td>3</td>\n      <td>1</td>\n      <td>746</td>\n      <td>371</td>\n      <td>114</td>\n      <td>146</td>\n      <td>62</td>\n      <td>53</td>\n      <td>5</td>\n      <td>1.257186</td>\n      <td>0.876620</td>\n      <td>8.266305238</td>\n      <td>0.68885877</td>\n      <td>0.247901</td>\n      <td>0.376838</td>\n      <td>0.258289</td>\n      <td>0.236214</td>\n      <td>0.392871</td>\n      <td>10.683540</td>\n      <td>2.936581</td>\n      <td>11.903910</td>\n      <td>0.853960072</td>\n      <td>10.24752087</td>\n      <td>5</td>\n      <td>1.595898</td>\n      <td>2.156284</td>\n      <td>113</td>\n      <td>0.071480</td>\n      <td>0.857764</td>\n      <td>0.820294</td>\n      <td>no</td>\n      <td>11.616653</td>\n      <td>1.721834</td>\n      <td>0.046810</td>\n      <td>0.787593</td>\n      <td>2.578671</td>\n      <td>1.721834</td>\n      <td>4</td>\n      <td>no</td>\n      <td>3.133531</td>\n      <td>10</td>\n      <td>0.084113</td>\n      <td>yes</td>\n      <td>1.595898</td>\n      <td>113</td>\n      <td>1.423428</td>\n      <td>4</td>\n      <td>6.515857</td>\n      <td>8.671016</td>\n      <td>1.638318</td>\n      <td>3.632640</td>\n      <td>4.587917</td>\n      <td>2.609420</td>\n      <td>9.155057</td>\n      <td>1.969738</td>\n      <td>0.220288</td>\n      <td>2.544696</td>\n      <td>3.975401</td>\n      <td>3.610754</td>\n      <td>0.307915</td>\n      <td>1.864637</td>\n      <td>3.779781</td>\n      <td>1.121703</td>\n      <td>0.991683</td>\n      <td>0.892668</td>\n      <td>0.429052</td>\n      <td>0.077901</td>\n      <td>0.810801</td>\n      <td>0.376838</td>\n      <td>0.378756</td>\n      <td>0.121681</td>\n      <td>2.584370</td>\n      <td>1.112486</td>\n      <td>1.800125</td>\n      <td>1.339652</td>\n      <td>0.026102</td>\n      <td>excellent</td>\n      <td>3.56</td>\n      <td>4.44</td>\n      <td>15</td>\n      <td>293699</td>\n      <td>1</td>\n      <td>45000</td>\n      <td>48</td>\n      <td>702.22</td>\n      <td>1166.67</td>\n      <td>934.44</td>\n      <td>3</td>\n      <td>17</td>\n      <td>10</td>\n      <td>11</td>\n      <td>7</td>\n      <td>0</td>\n      <td>0</td>\n      <td>1</td>\n      <td>4</td>\n      <td>0</td>\n      <td>2</td>\n      <td>3</td>\n      <td>0</td>\n      <td>3.34</td>\n      <td>8.29</td>\n      <td>46</td>\n      <td>420952</td>\n      <td>3</td>\n      <td>158200</td>\n      <td>153</td>\n      <td>763.45</td>\n      <td>1272.41</td>\n      <td>1017.93</td>\n      <td>8</td>\n      <td>39</td>\n      <td>45</td>\n      <td>39</td>\n      <td>19</td>\n      <td>2</td>\n      <td>1</td>\n      <td>7</td>\n      <td>12</td>\n      <td>0</td>\n      <td>6</td>\n      <td>7</td>\n      <td>0</td>\n      <td>4.12</td>\n      <td>4.83</td>\n      <td>93</td>\n      <td>1195735</td>\n      <td>9</td>\n      <td>445900</td>\n      <td>272</td>\n      <td>766.8</td>\n      <td>1272.73</td>\n      <td>1019.76</td>\n      <td>19</td>\n      <td>70</td>\n      <td>74</td>\n      <td>72</td>\n      <td>30</td>\n      <td>6</td>\n      <td>1</td>\n      <td>18</td>\n      <td>30</td>\n      <td>0</td>\n      <td>10</td>\n      <td>14</td>\n      <td>2</td>\n      <td>4.53</td>\n      <td>5.02</td>\n      <td>149</td>\n      <td>1625130</td>\n      <td>17</td>\n      <td>564843</td>\n      <td>483</td>\n      <td>765.93</td>\n      <td>1269.23</td>\n      <td>1017.58</td>\n      <td>28</td>\n      <td>130</td>\n      <td>129</td>\n      <td>131</td>\n      <td>50</td>\n      <td>14</td>\n      <td>1</td>\n      <td>35</td>\n      <td>61</td>\n      <td>0</td>\n      <td>17</td>\n      <td>21</td>\n      <td>3</td>\n      <td>5.06</td>\n      <td>8.62</td>\n      <td>305</td>\n      <td>3420907</td>\n      <td>60</td>\n      <td>2296870</td>\n      <td>1068</td>\n      <td>853.03</td>\n      <td>1410.45</td>\n      <td>1131.74</td>\n      <td>63</td>\n      <td>266</td>\n      <td>267</td>\n      <td>262</td>\n      <td>149</td>\n      <td>57</td>\n      <td>4</td>\n      <td>70</td>\n      <td>121</td>\n      <td>1</td>\n      <td>40</td>\n      <td>77</td>\n      <td>5</td>\n      <td>8.38</td>\n      <td>10.92</td>\n      <td>689</td>\n      <td>8404624</td>\n      <td>114</td>\n      <td>3503058</td>\n      <td>2283</td>\n      <td>853.88</td>\n      <td>1411.45</td>\n      <td>1132.66</td>\n      <td>143</td>\n      <td>566</td>\n      <td>578</td>\n      <td>552</td>\n      <td>319</td>\n      <td>108</td>\n      <td>17</td>\n      <td>135</td>\n      <td>236</td>\n      <td>2</td>\n      <td>91</td>\n      <td>195</td>\n      <td>14</td>\n      <td>16331452</td>\n    </tr>\n  </tbody>\n</table>\n</div>"
     },
     "metadata": {}
    }
   ],
   "source": [
    "with pd.option_context('display.max_columns', None): \n",
    "    display(df_full.limit(5).toPandas())"
   ]
  },
  {
   "cell_type": "code",
   "execution_count": 76,
   "metadata": {},
   "outputs": [],
   "source": [
    "df = df_full.select(\"timestamp\",       # date of transaction\n",
    "                    \"full_sq\",         # total area\n",
    "                    \"life_sq\",         # living area\n",
    "                    \"floor\",\n",
    "                    \"sub_area\",        # district\n",
    "                    \"green_zone_part\",\n",
    "                    \"indust_part\",\n",
    "                    \"price_doc\").      # sale price"
   ]
  },
  {
   "cell_type": "code",
   "execution_count": 82,
   "metadata": {},
   "outputs": [
    {
     "output_type": "stream",
     "name": "stdout",
     "text": [
      "+--------------+\n|max(price_doc)|\n+--------------+\n|     111111112|\n+--------------+\n\n"
     ]
    }
   ],
   "source": [
    "df.agg({\"price_doc\": \"max\"}).show()"
   ]
  },
  {
   "cell_type": "code",
   "execution_count": 83,
   "metadata": {},
   "outputs": [
    {
     "output_type": "stream",
     "name": "stdout",
     "text": [
      "+--------------+\n|min(price_doc)|\n+--------------+\n|        100000|\n+--------------+\n\n"
     ]
    }
   ],
   "source": [
    "df.agg({\"price_doc\": \"min\"}).show()"
   ]
  },
  {
   "cell_type": "code",
   "execution_count": 78,
   "metadata": {},
   "outputs": [],
   "source": [
    "df.write.mode(\"overwrite\").option(\"header\", \"true\").csv(SBERBANK_PATH_SUBSET)"
   ]
  },
  {
   "cell_type": "code",
   "execution_count": 79,
   "metadata": {},
   "outputs": [
    {
     "output_type": "stream",
     "name": "stdout",
     "text": [
      "root\n |-- timestamp: timestamp (nullable = true)\n |-- full_sq: integer (nullable = true)\n |-- life_sq: string (nullable = true)\n |-- floor: string (nullable = true)\n |-- sub_area: string (nullable = true)\n |-- green_zone_part: double (nullable = true)\n |-- indust_part: double (nullable = true)\n |-- price_doc: integer (nullable = true)\n\n"
     ]
    }
   ],
   "source": [
    "df = spark.read.option(\"inferSchema\", \"true\").option(\"header\", \"true\").csv(SBERBANK_PATH_SUBSET)\n",
    "df.printSchema()"
   ]
  },
  {
   "source": [
    "# Creating and Reading Data"
   ],
   "cell_type": "markdown",
   "metadata": {}
  },
  {
   "cell_type": "code",
   "execution_count": 85,
   "metadata": {},
   "outputs": [
    {
     "output_type": "stream",
     "name": "stdout",
     "text": [
      "+---+\n| id|\n+---+\n|  0|\n|  1|\n|  2|\n|  3|\n|  4|\n|  5|\n|  6|\n|  7|\n|  8|\n|  9|\n+---+\n\n"
     ]
    }
   ],
   "source": [
    "numbers = spark.range(10)\n",
    "numbers.show()"
   ]
  },
  {
   "cell_type": "code",
   "execution_count": 86,
   "metadata": {},
   "outputs": [],
   "source": [
    "df = spark \\\n",
    "  .read \\\n",
    "  .option(\"inferSchema\", \"true\") \\\n",
    "  .option(\"header\", \"true\") \\\n",
    "  .csv(SBERBANK_PATH_SUBSET)"
   ]
  },
  {
   "cell_type": "code",
   "execution_count": 87,
   "metadata": {},
   "outputs": [
    {
     "output_type": "stream",
     "name": "stdout",
     "text": [
      "+---+-----+\n| ID| Name|\n+---+-----+\n|  1| Anna|\n|  2|Boris|\n+---+-----+\n\n"
     ]
    }
   ],
   "source": [
    "import tempfile\n",
    "import os\n",
    "\n",
    "with tempfile.NamedTemporaryFile() as f:\n",
    "    f.write(b'1\\t\"Anna\"\\n2\\tBoris')\n",
    "    f.flush()\n",
    "    os.fsync(f)\n",
    "\n",
    "    schema = StructType([\n",
    "        StructField(\"ID\", LongType(), nullable=False),\n",
    "        StructField(\"Name\", StringType(), nullable=False)\n",
    "    ])\n",
    "\n",
    "    spark.read.format(\"csv\").schema(schema).option('sep', '\\t').load(f.name).show()"
   ]
  },
  {
   "cell_type": "code",
   "execution_count": 112,
   "metadata": {},
   "outputs": [
    {
     "output_type": "stream",
     "name": "stdout",
     "text": [
      "+-----+---+\n| Name| ID|\n+-----+---+\n|Hello|  1|\n+-----+---+\n\n"
     ]
    }
   ],
   "source": [
    "schema = StructType([\n",
    "    StructField(\"Name\", StringType(), nullable=False),\n",
    "    StructField(\"ID\", LongType(), nullable=False)\n",
    "])\n",
    "row = Row(\"Hello\", 1)\n",
    "spark.createDataFrame([row], schema).show()"
   ]
  },
  {
   "source": [
    "# Showing Data"
   ],
   "cell_type": "markdown",
   "metadata": {}
  },
  {
   "cell_type": "code",
   "execution_count": 88,
   "metadata": {},
   "outputs": [
    {
     "output_type": "stream",
     "name": "stdout",
     "text": [
      "root\n |-- timestamp: timestamp (nullable = true)\n |-- full_sq: integer (nullable = true)\n |-- life_sq: string (nullable = true)\n |-- floor: string (nullable = true)\n |-- sub_area: string (nullable = true)\n |-- green_zone_part: double (nullable = true)\n |-- indust_part: double (nullable = true)\n |-- price_doc: integer (nullable = true)\n\n"
     ]
    }
   ],
   "source": [
    "df.printSchema()"
   ]
  },
  {
   "cell_type": "code",
   "execution_count": 95,
   "metadata": {},
   "outputs": [
    {
     "output_type": "execute_result",
     "data": {
      "text/plain": [
       "StructType(List(StructField(timestamp,TimestampType,true),StructField(full_sq,IntegerType,true),StructField(life_sq,StringType,true),StructField(floor,StringType,true),StructField(sub_area,StringType,true),StructField(green_zone_part,DoubleType,true),StructField(indust_part,DoubleType,true),StructField(price_doc,IntegerType,true)))"
      ]
     },
     "metadata": {},
     "execution_count": 95
    }
   ],
   "source": [
    "df.schema"
   ]
  },
  {
   "cell_type": "code",
   "execution_count": 89,
   "metadata": {},
   "outputs": [
    {
     "output_type": "execute_result",
     "data": {
      "text/plain": [
       "['timestamp',\n",
       " 'full_sq',\n",
       " 'life_sq',\n",
       " 'floor',\n",
       " 'sub_area',\n",
       " 'green_zone_part',\n",
       " 'indust_part',\n",
       " 'price_doc']"
      ]
     },
     "metadata": {},
     "execution_count": 89
    }
   ],
   "source": [
    "df.schema.names"
   ]
  },
  {
   "cell_type": "code",
   "execution_count": 127,
   "metadata": {},
   "outputs": [
    {
     "output_type": "execute_result",
     "data": {
      "text/plain": [
       "30471"
      ]
     },
     "metadata": {},
     "execution_count": 127
    }
   ],
   "source": [
    "df.count() # number of rows"
   ]
  },
  {
   "cell_type": "code",
   "execution_count": 90,
   "metadata": {},
   "outputs": [
    {
     "output_type": "execute_result",
     "data": {
      "text/plain": [
       "[Row(timestamp=datetime.datetime(2014, 3, 27, 0, 0), full_sq=35, life_sq='19', floor='3', sub_area='Ivanovskoe', green_zone_part=0.512707469, indust_part=0.000169676, price_doc=5300000),\n",
       " Row(timestamp=datetime.datetime(2014, 3, 27, 0, 0), full_sq=46, life_sq='NA', floor='12', sub_area='Tverskoe', green_zone_part=0.065444314, indust_part=7.81528e-05, price_doc=4648932)]"
      ]
     },
     "metadata": {},
     "execution_count": 90
    }
   ],
   "source": [
    "df.take(2)"
   ]
  },
  {
   "cell_type": "code",
   "execution_count": 91,
   "metadata": {
    "tags": []
   },
   "outputs": [
    {
     "output_type": "stream",
     "name": "stdout",
     "text": [
      "+-------------------+-------+-------+-----+----------+---------------+-----------+---------+\n|          timestamp|full_sq|life_sq|floor|  sub_area|green_zone_part|indust_part|price_doc|\n+-------------------+-------+-------+-----+----------+---------------+-----------+---------+\n|2014-03-27 00:00:00|     35|     19|    3|Ivanovskoe|    0.512707469| 1.69676E-4|  5300000|\n|2014-03-27 00:00:00|     46|     NA|   12|  Tverskoe|    0.065444314| 7.81528E-5|  4648932|\n+-------------------+-------+-------+-----+----------+---------------+-----------+---------+\nonly showing top 2 rows\n\n"
     ]
    }
   ],
   "source": [
    "df.show(n=2)"
   ]
  },
  {
   "cell_type": "code",
   "execution_count": 92,
   "metadata": {},
   "outputs": [
    {
     "output_type": "execute_result",
     "data": {
      "text/plain": [
       "[Row(timestamp=datetime.datetime(2014, 3, 27, 0, 0), full_sq=35, life_sq='19', floor='3', sub_area='Ivanovskoe', green_zone_part=0.512707469, indust_part=0.000169676, price_doc=5300000),\n",
       " Row(timestamp=datetime.datetime(2014, 3, 27, 0, 0), full_sq=46, life_sq='NA', floor='12', sub_area='Tverskoe', green_zone_part=0.065444314, indust_part=7.81528e-05, price_doc=4648932)]"
      ]
     },
     "metadata": {},
     "execution_count": 92
    }
   ],
   "source": [
    "df.limit(2).collect()"
   ]
  },
  {
   "cell_type": "code",
   "execution_count": 99,
   "metadata": {},
   "outputs": [
    {
     "output_type": "execute_result",
     "data": {
      "text/plain": [
       "Row(timestamp=datetime.datetime(2014, 3, 27, 0, 0), full_sq=35, life_sq='19', floor='3', sub_area='Ivanovskoe', green_zone_part=0.512707469, indust_part=0.000169676, price_doc=5300000)"
      ]
     },
     "metadata": {},
     "execution_count": 99
    }
   ],
   "source": [
    "df.first()"
   ]
  },
  {
   "cell_type": "code",
   "execution_count": 93,
   "metadata": {},
   "outputs": [
    {
     "output_type": "execute_result",
     "data": {
      "text/plain": [
       "   timestamp  full_sq life_sq floor    sub_area  green_zone_part  indust_part  \\\n",
       "0 2014-03-27       35      19     3  Ivanovskoe         0.512707     0.000170   \n",
       "1 2014-03-27       46      NA    12    Tverskoe         0.065444     0.000078   \n",
       "\n",
       "   price_doc  \n",
       "0    5300000  \n",
       "1    4648932  "
      ],
      "text/html": "<div>\n<style scoped>\n    .dataframe tbody tr th:only-of-type {\n        vertical-align: middle;\n    }\n\n    .dataframe tbody tr th {\n        vertical-align: top;\n    }\n\n    .dataframe thead th {\n        text-align: right;\n    }\n</style>\n<table border=\"1\" class=\"dataframe\">\n  <thead>\n    <tr style=\"text-align: right;\">\n      <th></th>\n      <th>timestamp</th>\n      <th>full_sq</th>\n      <th>life_sq</th>\n      <th>floor</th>\n      <th>sub_area</th>\n      <th>green_zone_part</th>\n      <th>indust_part</th>\n      <th>price_doc</th>\n    </tr>\n  </thead>\n  <tbody>\n    <tr>\n      <th>0</th>\n      <td>2014-03-27</td>\n      <td>35</td>\n      <td>19</td>\n      <td>3</td>\n      <td>Ivanovskoe</td>\n      <td>0.512707</td>\n      <td>0.000170</td>\n      <td>5300000</td>\n    </tr>\n    <tr>\n      <th>1</th>\n      <td>2014-03-27</td>\n      <td>46</td>\n      <td>NA</td>\n      <td>12</td>\n      <td>Tverskoe</td>\n      <td>0.065444</td>\n      <td>0.000078</td>\n      <td>4648932</td>\n    </tr>\n  </tbody>\n</table>\n</div>"
     },
     "metadata": {},
     "execution_count": 93
    }
   ],
   "source": [
    "df.limit(2).toPandas()"
   ]
  },
  {
   "source": [
    "# Operations"
   ],
   "cell_type": "markdown",
   "metadata": {}
  },
  {
   "source": [
    "> To Spark, columns are logical constructions that simply represent a value computed on a per-record basis by means of an expression. This means that to have a real value for a column, we need to have a row; and to have a row, we need to have a DataFrame. You cannot manipulate an individual column outside the context of a DataFrame\n",
    "\n",
    "From \"Spark: The Definitive Guide\""
   ],
   "cell_type": "markdown",
   "metadata": {}
  },
  {
   "cell_type": "code",
   "execution_count": 94,
   "metadata": {},
   "outputs": [
    {
     "output_type": "execute_result",
     "data": {
      "text/plain": [
       "(Column<b'abc'>, Column<b'timestamp'>)"
      ]
     },
     "metadata": {},
     "execution_count": 94
    }
   ],
   "source": [
    "col('abc'), column('timestamp')"
   ]
  },
  {
   "cell_type": "code",
   "execution_count": 98,
   "metadata": {},
   "outputs": [
    {
     "output_type": "execute_result",
     "data": {
      "text/plain": [
       "Column<b'(full_sq > 35)'>"
      ]
     },
     "metadata": {},
     "execution_count": 98
    }
   ],
   "source": [
    "expr('full_sq > 35')"
   ]
  },
  {
   "cell_type": "code",
   "execution_count": 116,
   "metadata": {},
   "outputs": [
    {
     "output_type": "stream",
     "name": "stdout",
     "text": [
      "+-------------------+---------+\n|          timestamp|price_doc|\n+-------------------+---------+\n|2014-03-27 00:00:00|  5300000|\n|2014-03-27 00:00:00|  4648932|\n+-------------------+---------+\nonly showing top 2 rows\n\n"
     ]
    }
   ],
   "source": [
    "df.select(\"timestamp\", \"price_doc\").show(2)"
   ]
  },
  {
   "cell_type": "code",
   "execution_count": 119,
   "metadata": {},
   "outputs": [
    {
     "output_type": "stream",
     "name": "stdout",
     "text": [
      "+------------------+-----------------+\n|green_zone_percent|        price_usd|\n+------------------+-----------------+\n|        51.2707469|70666.66666666667|\n| 6.544431400000001|         61985.76|\n+------------------+-----------------+\nonly showing top 2 rows\n\n"
     ]
    }
   ],
   "source": [
    "df.select(expr(\"green_zone_part * 100\").alias(\"green_zone_percent\"), expr(\"price_doc / 75 as price_usd\")).show(2)"
   ]
  },
  {
   "cell_type": "code",
   "execution_count": 121,
   "metadata": {},
   "outputs": [
    {
     "output_type": "stream",
     "name": "stdout",
     "text": [
      "+-------------------+-------+-------+-----+----------+---------------+-----------+---------+------------------+-----------------+\n|          timestamp|full_sq|life_sq|floor|  sub_area|green_zone_part|indust_part|price_doc|green_zone_percent|        price_usd|\n+-------------------+-------+-------+-----+----------+---------------+-----------+---------+------------------+-----------------+\n|2014-03-27 00:00:00|     35|     19|    3|Ivanovskoe|    0.512707469| 1.69676E-4|  5300000|        51.2707469|70666.66666666667|\n|2014-03-27 00:00:00|     46|     NA|   12|  Tverskoe|    0.065444314| 7.81528E-5|  4648932| 6.544431400000001|         61985.76|\n+-------------------+-------+-------+-----+----------+---------------+-----------+---------+------------------+-----------------+\nonly showing top 2 rows\n\n"
     ]
    }
   ],
   "source": [
    "df.selectExpr(\"*\", \"green_zone_part * 100 as green_zone_percent\", \"price_doc / 75 as price_usd\").show(2)"
   ]
  },
  {
   "cell_type": "code",
   "execution_count": 125,
   "metadata": {},
   "outputs": [
    {
     "output_type": "stream",
     "name": "stdout",
     "text": [
      "+----------------+--------+\n|  avg(price_doc)|count(1)|\n+----------------+--------+\n|7123035.27773949|   30471|\n+----------------+--------+\n\n"
     ]
    }
   ],
   "source": [
    "df.selectExpr(\"avg(price_doc)\", \"count(*)\").show(2)"
   ]
  },
  {
   "cell_type": "code",
   "execution_count": 128,
   "metadata": {},
   "outputs": [
    {
     "output_type": "stream",
     "name": "stdout",
     "text": [
      "+-------------------+----+\n|          timestamp|Five|\n+-------------------+----+\n|2014-03-27 00:00:00|   5|\n|2014-03-27 00:00:00|   5|\n+-------------------+----+\nonly showing top 2 rows\n\n"
     ]
    }
   ],
   "source": [
    "df.select(\"timestamp\", lit(5).alias(\"Five\")).show(2)"
   ]
  },
  {
   "cell_type": "code",
   "execution_count": 132,
   "metadata": {},
   "outputs": [
    {
     "output_type": "stream",
     "name": "stdout",
     "text": [
      "+-------------------+-------+-------+-----+----------+---------------+-----------+---------+----------------------+\n|          timestamp|full_sq|life_sq|floor|  sub_area|green_zone_part|indust_part|price_doc|more_green_than_indust|\n+-------------------+-------+-------+-----+----------+---------------+-----------+---------+----------------------+\n|2014-03-27 00:00:00|     35|     19|    3|Ivanovskoe|    0.512707469| 1.69676E-4|  5300000|                  true|\n|2014-03-27 00:00:00|     46|     NA|   12|  Tverskoe|    0.065444314| 7.81528E-5|  4648932|                  true|\n+-------------------+-------+-------+-----+----------+---------------+-----------+---------+----------------------+\nonly showing top 2 rows\n\n"
     ]
    }
   ],
   "source": [
    "df.withColumn(\"more_green_than_indust\", expr(\"green_zone_part > indust_part\")).show(2)"
   ]
  },
  {
   "cell_type": "code",
   "execution_count": 133,
   "metadata": {},
   "outputs": [
    {
     "output_type": "execute_result",
     "data": {
      "text/plain": [
       "['selling_date',\n",
       " 'full_sq',\n",
       " 'life_sq',\n",
       " 'floor',\n",
       " 'sub_area',\n",
       " 'green_zone_part',\n",
       " 'indust_part',\n",
       " 'price_doc']"
      ]
     },
     "metadata": {},
     "execution_count": 133
    }
   ],
   "source": [
    "df.withColumnRenamed(\"timestamp\", \"selling_date\").columns"
   ]
  },
  {
   "cell_type": "code",
   "execution_count": 134,
   "metadata": {},
   "outputs": [
    {
     "output_type": "execute_result",
     "data": {
      "text/plain": [
       "['timestamp',\n",
       " 'full_sq',\n",
       " 'life_sq',\n",
       " 'floor',\n",
       " 'green_zone_part',\n",
       " 'indust_part',\n",
       " 'price_doc']"
      ]
     },
     "metadata": {},
     "execution_count": 134
    }
   ],
   "source": [
    "df.drop(\"sub_area\").columns"
   ]
  },
  {
   "cell_type": "code",
   "execution_count": 135,
   "metadata": {},
   "outputs": [
    {
     "output_type": "stream",
     "name": "stdout",
     "text": [
      "+-------------------+-------+-------+-----+----------+---------------+-----------+---------+------------------+\n|          timestamp|full_sq|life_sq|floor|  sub_area|green_zone_part|indust_part|price_doc|green_zone_percent|\n+-------------------+-------+-------+-----+----------+---------------+-----------+---------+------------------+\n|2014-03-27 00:00:00|     35|     19|    3|Ivanovskoe|    0.512707469| 1.69676E-4|  5300000|                51|\n|2014-03-27 00:00:00|     46|     NA|   12|  Tverskoe|    0.065444314| 7.81528E-5|  4648932|                 6|\n+-------------------+-------+-------+-----+----------+---------------+-----------+---------+------------------+\nonly showing top 2 rows\n\n"
     ]
    }
   ],
   "source": [
    "df.withColumn(\"green_zone_percent\", expr(\"green_zone_part * 100\").cast(\"long\")).show(2)"
   ]
  },
  {
   "cell_type": "code",
   "execution_count": 136,
   "metadata": {},
   "outputs": [
    {
     "output_type": "execute_result",
     "data": {
      "text/plain": [
       "17030"
      ]
     },
     "metadata": {},
     "execution_count": 136
    }
   ],
   "source": [
    "df.filter(col(\"floor\") > 5).count()"
   ]
  },
  {
   "cell_type": "code",
   "execution_count": 142,
   "metadata": {},
   "outputs": [
    {
     "output_type": "stream",
     "name": "stdout",
     "text": [
      "+---------------------------+\n|CAST(avg(price_doc) AS INT)|\n+---------------------------+\n|                   21172852|\n+---------------------------+\n\n"
     ]
    }
   ],
   "source": [
    "df.where(col(\"floor\") > 5).where(expr(\"full_sq > 100\")).select(expr(\"avg(price_doc)\").cast(\"int\")).show()"
   ]
  },
  {
   "cell_type": "code",
   "execution_count": 143,
   "metadata": {},
   "outputs": [
    {
     "output_type": "execute_result",
     "data": {
      "text/plain": [
       "146"
      ]
     },
     "metadata": {},
     "execution_count": 143
    }
   ],
   "source": [
    "df.select(\"sub_area\").distinct().count()"
   ]
  },
  {
   "cell_type": "code",
   "execution_count": 145,
   "metadata": {},
   "outputs": [
    {
     "output_type": "stream",
     "name": "stdout",
     "text": [
      "+-------------------+-------+-------+-----+--------------------+---------------+-----------+---------+\n|          timestamp|full_sq|life_sq|floor|            sub_area|green_zone_part|indust_part|price_doc|\n+-------------------+-------+-------+-----+--------------------+---------------+-----------+---------+\n|2012-10-19 00:00:00|     53|     29|   11|             Mar'ino|    0.188712765|0.090799103|  7500000|\n|2014-09-19 00:00:00|     64|     NA|    9|Poselenie Moskovskij|    0.492839845|0.075778755|  6004650|\n|2013-09-10 00:00:00|     39|     18|   12|Pokrovskoe Stresh...|    0.183968555|0.150817539|  6650000|\n|2012-03-21 00:00:00|     40|     18|   16|            Brateevo|    0.398794394|        0.0|  6600000|\n+-------------------+-------+-------+-----+--------------------+---------------+-----------+---------+\n\n"
     ]
    }
   ],
   "source": [
    "df.sample(withReplacement=False, fraction=0.0002, seed=42).show()"
   ]
  },
  {
   "cell_type": "code",
   "execution_count": 148,
   "metadata": {},
   "outputs": [
    {
     "output_type": "execute_result",
     "data": {
      "text/plain": [
       "(3, 21367, 6116, 2988)"
      ]
     },
     "metadata": {},
     "execution_count": 148
    }
   ],
   "source": [
    "data_frames = df.randomSplit([0.7, 0.2, 0.1], seed=42)\n",
    "len(data_frames), data_frames[0].count(), data_frames[1].count(), data_frames[2].count()"
   ]
  },
  {
   "cell_type": "code",
   "execution_count": 149,
   "metadata": {},
   "outputs": [
    {
     "output_type": "execute_result",
     "data": {
      "text/plain": [
       "30471"
      ]
     },
     "metadata": {},
     "execution_count": 149
    }
   ],
   "source": [
    "data_frames[0].union(data_frames[1]).union(data_frames[2]).count()"
   ]
  },
  {
   "cell_type": "code",
   "execution_count": 150,
   "metadata": {},
   "outputs": [
    {
     "output_type": "stream",
     "name": "stdout",
     "text": [
      "+-------------------+-------+-------+-----+--------------------+---------------+-----------+---------+\n|          timestamp|full_sq|life_sq|floor|            sub_area|green_zone_part|indust_part|price_doc|\n+-------------------+-------+-------+-----+--------------------+---------------+-----------+---------+\n|2012-05-10 00:00:00|     55|     31|   12|         Teplyj Stan|    0.426396297|0.002211665|111111112|\n|2015-03-12 00:00:00|    220|    144|    3|         Presnenskoe|    0.068202173|0.042031587| 95122496|\n|2013-04-19 00:00:00|    185|     66|   33|             Ramenki|    0.169625419|0.019508796| 91066096|\n|2014-05-29 00:00:00|    184|     85|   10|             Ramenki|    0.169625419|0.019508796| 80777440|\n|2013-03-06 00:00:00|    206|    128|    2|Pokrovskoe Stresh...|    0.183968555|0.150817539| 78802248|\n+-------------------+-------+-------+-----+--------------------+---------------+-----------+---------+\nonly showing top 5 rows\n\n"
     ]
    }
   ],
   "source": [
    "df.sort(col(\"price_doc\").desc()).show(5)"
   ]
  },
  {
   "cell_type": "code",
   "execution_count": null,
   "metadata": {},
   "outputs": [],
   "source": []
  },
  {
   "cell_type": "code",
   "execution_count": null,
   "metadata": {},
   "outputs": [],
   "source": []
  },
  {
   "cell_type": "code",
   "execution_count": null,
   "metadata": {},
   "outputs": [],
   "source": []
  },
  {
   "cell_type": "code",
   "execution_count": null,
   "metadata": {},
   "outputs": [],
   "source": []
  },
  {
   "cell_type": "code",
   "execution_count": null,
   "metadata": {},
   "outputs": [],
   "source": []
  },
  {
   "source": [
    "# Debugging"
   ],
   "cell_type": "markdown",
   "metadata": {}
  },
  {
   "cell_type": "code",
   "execution_count": 21,
   "metadata": {
    "tags": []
   },
   "outputs": [
    {
     "output_type": "stream",
     "name": "stdout",
     "text": [
      "== Physical Plan ==\nSort [timestamp#11 ASC NULLS FIRST], true, 0\n+- Exchange rangepartitioning(timestamp#11 ASC NULLS FIRST, 200)\n   +- FileScan csv [id#10,timestamp#11,full_sq#12,life_sq#13,floor#14,max_floor#15,material#16,build_year#17,num_room#18,kitch_sq#19,state#20,product_type#21,sub_area#22,area_m#23,raion_popul#24,green_zone_part#25,indust_part#26,children_preschool#27,preschool_quota#28,preschool_education_centers_raion#29,children_school#30,school_quota#31,school_education_centers_raion#32,school_education_centers_top_20_raion#33,... 268 more fields] Batched: false, Format: CSV, Location: InMemoryFileIndex[file:/Users/anton/datasets/sberbank_russian_housing_market/train.csv], PartitionFilters: [], PushedFilters: [], ReadSchema: struct<id:int,timestamp:timestamp,full_sq:int,life_sq:string,floor:string,max_floor:string,materi...\n"
     ]
    }
   ],
   "source": [
    "df.sort('timestamp').explain()"
   ]
  },
  {
   "cell_type": "code",
   "execution_count": null,
   "metadata": {},
   "outputs": [],
   "source": []
  },
  {
   "cell_type": "code",
   "execution_count": null,
   "metadata": {},
   "outputs": [],
   "source": []
  },
  {
   "cell_type": "code",
   "execution_count": null,
   "metadata": {},
   "outputs": [],
   "source": []
  },
  {
   "cell_type": "code",
   "execution_count": null,
   "metadata": {},
   "outputs": [],
   "source": []
  },
  {
   "cell_type": "code",
   "execution_count": null,
   "metadata": {},
   "outputs": [],
   "source": []
  }
 ]
}
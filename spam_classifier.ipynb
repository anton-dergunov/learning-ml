{
 "cells": [
  {
   "cell_type": "code",
   "execution_count": null,
   "metadata": {
    "scrolled": true
   },
   "outputs": [
    {
     "name": "stdout",
     "output_type": "stream",
     "text": [
      "Downloading 'https://spamassassin.apache.org/old/publiccorpus/20021010_easy_ham.tar.bz2'\n",
      "Downloading 'https://spamassassin.apache.org/old/publiccorpus/20021010_hard_ham.tar.bz2'\n",
      "Downloading 'https://spamassassin.apache.org/old/publiccorpus/20021010_spam.tar.bz2'\n",
      "Downloading 'https://spamassassin.apache.org/old/publiccorpus/20030228_easy_ham.tar.bz2'\n",
      "Downloading 'https://spamassassin.apache.org/old/publiccorpus/20030228_easy_ham_2.tar.bz2'\n",
      "Downloading 'https://spamassassin.apache.org/old/publiccorpus/20030228_hard_ham.tar.bz2'\n",
      "Downloading 'https://spamassassin.apache.org/old/publiccorpus/20030228_spam.tar.bz2'\n",
      "Downloading 'https://spamassassin.apache.org/old/publiccorpus/20030228_spam_2.tar.bz2'\n"
     ]
    }
   ],
   "source": [
    "from __future__ import print_function\n",
    "\n",
    "import bs4\n",
    "import requests\n",
    "import os\n",
    "import shutil\n",
    "import tarfile\n",
    "\n",
    "def safe_tar_members(members):\n",
    "    resolve = lambda path: os.path.abspath(os.path.realpath(path))\n",
    "    base_path = resolve(\".\")\n",
    "    \n",
    "    for file_info in members:\n",
    "        if not file_info.isfile() and not file_info.isdir():\n",
    "            print(\"'{}' is blocked, not file or dir\".format(file_info.name), file=sys.stderr)\n",
    "        if not resolve(os.path.join(base_path, file_info.name)).startswith(base_path):\n",
    "            print(\"'{}' is blocked, illegal path\".format(file_info.name), file=sys.stderr)\n",
    "        yield file_info\n",
    "\n",
    "def download_spam_data():\n",
    "    DATASET_URL = r\"https://spamassassin.apache.org/old/publiccorpus\"\n",
    "    FILE_EXTENSION = '.tar.bz2'\n",
    "    LOCAL_PATH = r\"~/datasets/spamassassin\"\n",
    "\n",
    "    dataset_dir = os.path.expanduser(LOCAL_PATH)\n",
    "    if not os.path.exists(dataset_dir):\n",
    "        print(\"Data already exists\")\n",
    "        return\n",
    "\n",
    "    os.makedirs(dataset_dir, exist_ok=True)\n",
    "\n",
    "    response = requests.get(DATASET_URL)\n",
    "    soup = bs4.BeautifulSoup(response.text, 'lxml')\n",
    "    for link in soup.find_all('a'):\n",
    "        link_href = link.get('href')\n",
    "        if not link_href.endswith(FILE_EXTENSION):\n",
    "            continue\n",
    "\n",
    "        file_url = dataset_url + \"/\" + link_href\n",
    "        file_path = os.path.join(dataset_dir, link_href)\n",
    "\n",
    "        print(\"Downloading '{}'\".format(file_url))\n",
    "        response = requests.get(file_url, stream=True)\n",
    "        with open(file_path, 'wb') as out_file:\n",
    "            shutil.copyfileobj(response.raw, out_file)\n",
    "        del response\n",
    "\n",
    "        tar = tarfile.open(file_path, \"r:bz2\")\n",
    "        tar.extractall(dataset_dir, members = safe_tar_members(tar))\n",
    "        tar.close()\n",
    "\n",
    "    print(\"Done\")\n",
    "\n",
    "download_spam_data()\n"
   ]
  },
  {
   "cell_type": "code",
   "execution_count": null,
   "metadata": {
    "collapsed": true
   },
   "outputs": [],
   "source": []
  }
 ],
 "metadata": {
  "kernelspec": {
   "display_name": "Python 3",
   "language": "python",
   "name": "python3"
  },
  "language_info": {
   "codemirror_mode": {
    "name": "ipython",
    "version": 3
   },
   "file_extension": ".py",
   "mimetype": "text/x-python",
   "name": "python",
   "nbconvert_exporter": "python",
   "pygments_lexer": "ipython3",
   "version": "3.6.3"
  }
 },
 "nbformat": 4,
 "nbformat_minor": 2
}
